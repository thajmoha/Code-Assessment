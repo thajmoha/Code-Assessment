{
 "cells": [
  {
   "cell_type": "code",
   "execution_count": 1,
   "metadata": {},
   "outputs": [],
   "source": [
    "#1*2*3*4   1\n",
    "#9*10*11*12  2\n",
    "#13*14*15*16  3\n",
    "#5*6*7*8  4"
   ]
  },
  {
   "cell_type": "code",
   "execution_count": 20,
   "metadata": {},
   "outputs": [
    {
     "name": "stdout",
     "output_type": "stream",
     "text": [
      "1*2*3*4\n",
      "9*10*11*12\n",
      "13*14*15*16\n",
      "5*6*7*8\n"
     ]
    }
   ],
   "source": [
    "nrows=4\n",
    "c=1\n",
    "M=[]\n",
    "for i in range(1,nrows+1):\n",
    "    M.append(list(range(c,c+nrows)))\n",
    "    c=c+nrows\n",
    "\n",
    "for k in range(int(nrows/2)):\n",
    "    M.insert(k+1,M[k+2])\n",
    "    del M[k+3]\n",
    "    \n",
    "for j in range(nrows):\n",
    "    print('*'.join(str(v) for v in M[j]))"
   ]
  },
  {
   "cell_type": "code",
   "execution_count": 27,
   "metadata": {},
   "outputs": [
    {
     "name": "stdout",
     "output_type": "stream",
     "text": [
      "1*2*3*4\n",
      "9*10*11*12\n",
      "13*14*15*16\n",
      "5*6*7*8\n"
     ]
    }
   ],
   "source": [
    "c=0\n",
    "for i in range(nrows):\n",
    "    if i==1:\n",
    "        c+=nrows\n",
    "    if i==nrows-1:\n",
    "        c=nrows\n",
    "    for j in range(nrows):\n",
    "        c+=1\n",
    "        if j==nrows-1:\n",
    "            print(c,end='')\n",
    "        else:\n",
    "            print('{0}*'.format(c),end='')\n",
    "#     c=c-2*nrows\n",
    "    print('')"
   ]
  },
  {
   "cell_type": "code",
   "execution_count": null,
   "metadata": {},
   "outputs": [],
   "source": []
  }
 ],
 "metadata": {
  "kernelspec": {
   "display_name": "Python 3.6 (tensorflow)",
   "language": "python",
   "name": "tensorflow"
  },
  "language_info": {
   "codemirror_mode": {
    "name": "ipython",
    "version": 3
   },
   "file_extension": ".py",
   "mimetype": "text/x-python",
   "name": "python",
   "nbconvert_exporter": "python",
   "pygments_lexer": "ipython3",
   "version": "3.6.10"
  }
 },
 "nbformat": 4,
 "nbformat_minor": 2
}
