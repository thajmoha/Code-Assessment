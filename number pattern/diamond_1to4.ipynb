{
 "cells": [
  {
   "cell_type": "code",
   "execution_count": 1,
   "metadata": {},
   "outputs": [],
   "source": [
    "#1\n",
    "#2*2\n",
    "#3*3*3\n",
    "#4*4*4*4\n",
    "#4*4*4*4\n",
    "#3*3*3\n",
    "#2*2\n",
    "#1"
   ]
  },
  {
   "cell_type": "code",
   "execution_count": 6,
   "metadata": {},
   "outputs": [
    {
     "name": "stdout",
     "output_type": "stream",
     "text": [
      "1\n",
      "2*2\n",
      "3*3*3\n",
      "4*4*4*4\n"
     ]
    }
   ],
   "source": [
    "nrows=4\n",
    "for i in range(1,nrows+1):\n",
    "    for j in range(1,i+1):\n",
    "        print(i,end='')\n",
    "        if j!=i and i>=1 and i<=nrows:\n",
    "            print('*',end='')\n",
    "    print('')"
   ]
  },
  {
   "cell_type": "code",
   "execution_count": 18,
   "metadata": {},
   "outputs": [
    {
     "name": "stdout",
     "output_type": "stream",
     "text": [
      "1\n",
      "2*2\n",
      "3*3*3\n",
      "4*4*4*4\n",
      "4*4*4*4\n",
      "3*3*3\n",
      "2*2\n",
      "1\n"
     ]
    }
   ],
   "source": [
    "nrows=4\n",
    "for i in range(1,2*nrows+1):\n",
    "    if i <=nrows:\n",
    "        for j in range(1,i+1):\n",
    "            print(i,end='')\n",
    "            if j!=i and i>=1 and i<=nrows:\n",
    "                print('*',end='')\n",
    "    else:\n",
    "        for k in range(1,2*nrows-i+1+1):\n",
    "        \n",
    "            print(2*nrows-i+1,end='')\n",
    "            if k!=2*nrows-i+1 and i>=nrows and i<=2*nrows:\n",
    "                print('*',end='')\n",
    "    print('')"
   ]
  },
  {
   "cell_type": "code",
   "execution_count": null,
   "metadata": {},
   "outputs": [],
   "source": []
  }
 ],
 "metadata": {
  "kernelspec": {
   "display_name": "Python 3.6 (tensorflow)",
   "language": "python",
   "name": "tensorflow"
  },
  "language_info": {
   "codemirror_mode": {
    "name": "ipython",
    "version": 3
   },
   "file_extension": ".py",
   "mimetype": "text/x-python",
   "name": "python",
   "nbconvert_exporter": "python",
   "pygments_lexer": "ipython3",
   "version": "3.6.10"
  }
 },
 "nbformat": 4,
 "nbformat_minor": 4
}
