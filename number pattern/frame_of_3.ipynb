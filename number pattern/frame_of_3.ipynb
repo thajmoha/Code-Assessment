{
 "cells": [
  {
   "cell_type": "code",
   "execution_count": 1,
   "metadata": {},
   "outputs": [],
   "source": [
    "# 333\n",
    "# 313\n",
    "# 323\n",
    "# 333"
   ]
  },
  {
   "cell_type": "code",
   "execution_count": 4,
   "metadata": {},
   "outputs": [
    {
     "name": "stdout",
     "output_type": "stream",
     "text": [
      "333\n",
      "313\n",
      "323\n",
      "333\n"
     ]
    }
   ],
   "source": [
    "ncol = 3\n",
    "nrows = 4\n",
    "for i in range(0,nrows):\n",
    "    for j in range(1,ncol+1):\n",
    "        if i==0 or j==nrows-1:\n",
    "            print('3',end='')\n",
    "        elif j==1 or j==ncol:\n",
    "            print('3',end='')\n",
    "        else:\n",
    "            print(str(i),end='')\n",
    "    print('')"
   ]
  },
  {
   "cell_type": "code",
   "execution_count": null,
   "metadata": {},
   "outputs": [],
   "source": []
  }
 ],
 "metadata": {
  "kernelspec": {
   "display_name": "Python 3.6 (tensorflow)",
   "language": "python",
   "name": "tensorflow"
  },
  "language_info": {
   "codemirror_mode": {
    "name": "ipython",
    "version": 3
   },
   "file_extension": ".py",
   "mimetype": "text/x-python",
   "name": "python",
   "nbconvert_exporter": "python",
   "pygments_lexer": "ipython3",
   "version": "3.6.9"
  }
 },
 "nbformat": 4,
 "nbformat_minor": 2
}
