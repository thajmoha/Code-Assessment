{
 "cells": [
  {
   "cell_type": "code",
   "execution_count": 9,
   "metadata": {},
   "outputs": [],
   "source": [
    "# 2\n",
    "# 3*3\n",
    "# 4*4*4\n",
    "# 3*3\n",
    "# 2"
   ]
  },
  {
   "cell_type": "code",
   "execution_count": 8,
   "metadata": {},
   "outputs": [
    {
     "name": "stdout",
     "output_type": "stream",
     "text": [
      "2\n",
      "3*3\n",
      "4*4*4\n",
      "3*3\n",
      "2\n",
      "\n"
     ]
    }
   ],
   "source": [
    "c=1\n",
    "nrows=3\n",
    "for i in range(1,2*nrows+1):\n",
    "    if i<=nrows:\n",
    "        c+=1\n",
    "        rept = i\n",
    "    else:\n",
    "        c-=1\n",
    "        rept = 2*nrows-i\n",
    "    num_list = '*'.join(list(str(c)*rept))\n",
    "    print(num_list)\n",
    "    "
   ]
  },
  {
   "cell_type": "code",
   "execution_count": 14,
   "metadata": {},
   "outputs": [
    {
     "name": "stdout",
     "output_type": "stream",
     "text": [
      "2\n",
      "3*3\n",
      "4*4*4\n",
      "4*4*4\n",
      "3*3\n",
      "2\n"
     ]
    }
   ],
   "source": [
    "c=1\n",
    "nrows=3\n",
    "for i in range(1,2*nrows+1):\n",
    "    if i<=nrows:\n",
    "        c+=1\n",
    "        rept = i\n",
    "    else:\n",
    "        if i!=nrows+1:\n",
    "            c-=1\n",
    "        rept = 2*nrows-i+1\n",
    "    num_list = '*'.join(list(str(c)*rept))\n",
    "    print(num_list)\n",
    "#     print(i)\n",
    "    "
   ]
  },
  {
   "cell_type": "code",
   "execution_count": null,
   "metadata": {},
   "outputs": [],
   "source": []
  }
 ],
 "metadata": {
  "kernelspec": {
   "display_name": "Python 3.6 (tensorflow)",
   "language": "python",
   "name": "tensorflow"
  },
  "language_info": {
   "codemirror_mode": {
    "name": "ipython",
    "version": 3
   },
   "file_extension": ".py",
   "mimetype": "text/x-python",
   "name": "python",
   "nbconvert_exporter": "python",
   "pygments_lexer": "ipython3",
   "version": "3.6.10"
  }
 },
 "nbformat": 4,
 "nbformat_minor": 4
}
