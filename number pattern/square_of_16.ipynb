{
 "cells": [
  {
   "cell_type": "code",
   "execution_count": 1,
   "metadata": {},
   "outputs": [],
   "source": [
    "#1*2*3*4\n",
    "#5*6*7*8\n",
    "#9*10*11*12\n",
    "#13*14*15*16"
   ]
  },
  {
   "cell_type": "code",
   "execution_count": 5,
   "metadata": {},
   "outputs": [
    {
     "name": "stdout",
     "output_type": "stream",
     "text": [
      "1*2*3*4\n",
      "5*6*7*8\n",
      "9*10*11*12\n",
      "13*14*15*16\n"
     ]
    }
   ],
   "source": [
    "nrows = 4\n",
    "c=1\n",
    "for i in range(nrows):\n",
    "    for j in range(nrows):\n",
    "        print(c,end='')\n",
    "        c+=1\n",
    "        if j<nrows-1:\n",
    "            print('*',end='')\n",
    "    print('')        "
   ]
  },
  {
   "cell_type": "code",
   "execution_count": null,
   "metadata": {},
   "outputs": [],
   "source": []
  }
 ],
 "metadata": {
  "kernelspec": {
   "display_name": "Python 3.6 (tensorflow)",
   "language": "python",
   "name": "tensorflow"
  },
  "language_info": {
   "codemirror_mode": {
    "name": "ipython",
    "version": 3
   },
   "file_extension": ".py",
   "mimetype": "text/x-python",
   "name": "python",
   "nbconvert_exporter": "python",
   "pygments_lexer": "ipython3",
   "version": "3.6.9"
  }
 },
 "nbformat": 4,
 "nbformat_minor": 2
}
