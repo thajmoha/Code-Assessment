{
 "cells": [
  {
   "cell_type": "code",
   "execution_count": 47,
   "metadata": {},
   "outputs": [],
   "source": [
    "#2 \n",
    "#34\n",
    "#567\n",
    "#891011\n",
    "#891011\n",
    "#567\n",
    "#34\n",
    "#2 "
   ]
  },
  {
   "cell_type": "code",
   "execution_count": 46,
   "metadata": {},
   "outputs": [
    {
     "name": "stdout",
     "output_type": "stream",
     "text": [
      "2\n",
      "34\n",
      "567\n",
      "891011\n",
      "891011\n",
      "567\n",
      "34\n",
      "2\n"
     ]
    }
   ],
   "source": [
    "nrows=4\n",
    "c=2\n",
    "for i in range(2*nrows):\n",
    "#     print(i)\n",
    "    if i <nrows:\n",
    "        for j in range(i+1):\n",
    "            print(c,end='')\n",
    "            c+=1\n",
    "    else:\n",
    "        for k in range(-2*nrows+i,0,1):\n",
    "            print(c+k,end='')\n",
    "        c = c-2*nrows+i\n",
    "    print('')"
   ]
  }
 ],
 "metadata": {
  "kernelspec": {
   "display_name": "Python 3.6 (tensorflow)",
   "language": "python",
   "name": "tensorflow"
  },
  "language_info": {
   "codemirror_mode": {
    "name": "ipython",
    "version": 3
   },
   "file_extension": ".py",
   "mimetype": "text/x-python",
   "name": "python",
   "nbconvert_exporter": "python",
   "pygments_lexer": "ipython3",
   "version": "3.6.9"
  }
 },
 "nbformat": 4,
 "nbformat_minor": 2
}
