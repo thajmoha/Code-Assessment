{
 "cells": [
  {
   "cell_type": "code",
   "execution_count": 1,
   "metadata": {},
   "outputs": [],
   "source": [
    "#6666\n",
    "#555\n",
    "#44\n",
    "#3\n",
    "#3\n",
    "#44\n",
    "#555\n",
    "#6666"
   ]
  },
  {
   "cell_type": "code",
   "execution_count": 7,
   "metadata": {},
   "outputs": [
    {
     "name": "stdout",
     "output_type": "stream",
     "text": [
      "6666\n",
      "555\n",
      "44\n",
      "3\n",
      "3\n",
      "44\n",
      "555\n",
      "6666\n"
     ]
    }
   ],
   "source": [
    "nrows = 4\n",
    "c=nrows+1\n",
    "for i in range(1,2*nrows+1):\n",
    "#     print(i)\n",
    "    \n",
    "    if i <=nrows:\n",
    "         c-=1\n",
    "    else:\n",
    "        if i!=nrows+1:\n",
    "            c+=1\n",
    "    print(str(c+2)*c)    "
   ]
  },
  {
   "cell_type": "code",
   "execution_count": null,
   "metadata": {},
   "outputs": [],
   "source": []
  }
 ],
 "metadata": {
  "kernelspec": {
   "display_name": "Python 3.6 (tensorflow)",
   "language": "python",
   "name": "tensorflow"
  },
  "language_info": {
   "codemirror_mode": {
    "name": "ipython",
    "version": 3
   },
   "file_extension": ".py",
   "mimetype": "text/x-python",
   "name": "python",
   "nbconvert_exporter": "python",
   "pygments_lexer": "ipython3",
   "version": "3.6.10"
  }
 },
 "nbformat": 4,
 "nbformat_minor": 4
}
