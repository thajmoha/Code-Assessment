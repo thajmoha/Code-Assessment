{
 "cells": [
  {
   "cell_type": "code",
   "execution_count": 24,
   "metadata": {},
   "outputs": [
    {
     "name": "stdout",
     "output_type": "stream",
     "text": [
      "1\n",
      "1 2\n",
      "3 5 8\n",
      "13 21 34 55\n",
      "89 144 233 377 610\n",
      "987 1597 2584 4181 6765 10946\n",
      "17711 28657 46368 75025 121393 196418 317811\n"
     ]
    }
   ],
   "source": [
    "# Fn = Fn-1 +Fn-2\n",
    "# F1,F2= 1\n",
    "nrows=7\n",
    "x=[1,1]\n",
    "\n",
    "for k in range(sum(range(nrows+1))-2):\n",
    "    a = sum(x[-2:])\n",
    "    x.append(a)\n",
    "\n",
    "cf=0\n",
    "\n",
    "for i in range(1,nrows+1):\n",
    "    c0 = cf\n",
    "    cf = c0+i\n",
    "    print(*x[c0:cf])"
   ]
  },
  {
   "cell_type": "code",
   "execution_count": null,
   "metadata": {},
   "outputs": [],
   "source": []
  }
 ],
 "metadata": {
  "kernelspec": {
   "display_name": "Python 3.6 (tensorflow)",
   "language": "python",
   "name": "tensorflow"
  },
  "language_info": {
   "codemirror_mode": {
    "name": "ipython",
    "version": 3
   },
   "file_extension": ".py",
   "mimetype": "text/x-python",
   "name": "python",
   "nbconvert_exporter": "python",
   "pygments_lexer": "ipython3",
   "version": "3.6.10"
  }
 },
 "nbformat": 4,
 "nbformat_minor": 4
}
