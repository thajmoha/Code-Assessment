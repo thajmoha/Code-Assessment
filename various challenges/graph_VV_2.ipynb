{
 "cells": [
  {
   "cell_type": "markdown",
   "metadata": {},
   "source": [
    "To solve graph/ path questions:\n",
    " - find routes using letters a0_0 a0_1 etc\n",
    " - transform routes to dictionary 'start':['opt1','opt2']\n",
    " - create get path function using sart/end/routes_dic/"
   ]
  },
  {
   "cell_type": "code",
   "execution_count": 3,
   "metadata": {},
   "outputs": [],
   "source": [
    "graph = ['...','.X.','...']\n",
    "startX=0\n",
    "startY=0\n",
    "goalX=1\n",
    "goalY=2\n",
    "\n",
    "n= len(graph)"
   ]
  },
  {
   "cell_type": "code",
   "execution_count": 4,
   "metadata": {},
   "outputs": [],
   "source": [
    "# finding routes each poitn can go > < ^ v\n",
    "routes = []\n",
    "for i in range(n):\n",
    "    for j in range(n):\n",
    "        # check if the point is bloced  \n",
    "        if graph[i][j]=='X':\n",
    "            continue\n",
    "        # check boundries i,j >=0 <=n-1\n",
    "        \n",
    "        #left\n",
    "        if i-1 >=0:\n",
    "            if graph[i-1][j]=='.':\n",
    "                next_step = ([i,j],[i-1,j])\n",
    "                routes.append(next_step)\n",
    "        #up\n",
    "        if j-1 >=0:\n",
    "            if graph[i][j-1]=='.':\n",
    "                next_step = ([i,j],[i,j-1])\n",
    "                routes.append(next_step)\n",
    "        #right\n",
    "        if i+1 <=n-1:\n",
    "            if graph[i+1][j]=='.':\n",
    "                    next_step = ([i,j],[i+1,j])\n",
    "                    routes.append(next_step)\n",
    "        #down\n",
    "        if j+1 <=n-1:\n",
    "            if graph[i][j+1]=='.':\n",
    "                    next_step = ([i,j],[i,j+1])\n",
    "                    routes.append(next_step)"
   ]
  },
  {
   "cell_type": "code",
   "execution_count": 5,
   "metadata": {},
   "outputs": [
    {
     "data": {
      "text/plain": [
       "[([0, 0], [1, 0]),\n",
       " ([0, 0], [0, 1]),\n",
       " ([0, 1], [0, 0]),\n",
       " ([0, 1], [0, 2]),\n",
       " ([0, 2], [0, 1]),\n",
       " ([0, 2], [1, 2]),\n",
       " ([1, 0], [0, 0]),\n",
       " ([1, 0], [2, 0]),\n",
       " ([1, 2], [0, 2]),\n",
       " ([1, 2], [2, 2]),\n",
       " ([2, 0], [1, 0]),\n",
       " ([2, 0], [2, 1]),\n",
       " ([2, 1], [2, 0]),\n",
       " ([2, 1], [2, 2]),\n",
       " ([2, 2], [1, 2]),\n",
       " ([2, 2], [2, 1])]"
      ]
     },
     "execution_count": 5,
     "metadata": {},
     "output_type": "execute_result"
    }
   ],
   "source": [
    "routes"
   ]
  },
  {
   "cell_type": "code",
   "execution_count": 8,
   "metadata": {},
   "outputs": [
    {
     "ename": "TypeError",
     "evalue": "unhashable type: 'list'",
     "output_type": "error",
     "traceback": [
      "\u001b[1;31m---------------------------------------------------------------------------\u001b[0m",
      "\u001b[1;31mTypeError\u001b[0m                                 Traceback (most recent call last)",
      "\u001b[1;32m<ipython-input-8-37fd69a1db6d>\u001b[0m in \u001b[0;36m<module>\u001b[1;34m\u001b[0m\n\u001b[0;32m      3\u001b[0m \u001b[0mu\u001b[0m \u001b[1;33m=\u001b[0m \u001b[0mroutes\u001b[0m\u001b[1;33m[\u001b[0m\u001b[1;36m0\u001b[0m\u001b[1;33m]\u001b[0m\u001b[1;33m[\u001b[0m\u001b[1;36m0\u001b[0m\u001b[1;33m]\u001b[0m\u001b[1;33m\u001b[0m\u001b[1;33m\u001b[0m\u001b[0m\n\u001b[0;32m      4\u001b[0m \u001b[0mv\u001b[0m \u001b[1;33m=\u001b[0m \u001b[0mroutes\u001b[0m\u001b[1;33m[\u001b[0m\u001b[1;36m0\u001b[0m\u001b[1;33m]\u001b[0m\u001b[1;33m[\u001b[0m\u001b[1;36m1\u001b[0m\u001b[1;33m]\u001b[0m\u001b[1;33m\u001b[0m\u001b[1;33m\u001b[0m\u001b[0m\n\u001b[1;32m----> 5\u001b[1;33m \u001b[0mgraph\u001b[0m\u001b[1;33m[\u001b[0m\u001b[0mu\u001b[0m\u001b[1;33m]\u001b[0m\u001b[1;33m.\u001b[0m\u001b[0mappend\u001b[0m\u001b[1;33m(\u001b[0m\u001b[0mv\u001b[0m\u001b[1;33m)\u001b[0m\u001b[1;33m\u001b[0m\u001b[1;33m\u001b[0m\u001b[0m\n\u001b[0m",
      "\u001b[1;31mTypeError\u001b[0m: unhashable type: 'list'"
     ]
    }
   ],
   "source": [
    "from collections import defaultdict\n",
    "graph = defaultdict(list)\n",
    "u = routes[0][0]\n",
    "v = routes[0][1]\n",
    "graph[u].append(v)"
   ]
  },
  {
   "cell_type": "code",
   "execution_count": 168,
   "metadata": {},
   "outputs": [],
   "source": [
    "# transforing gid to letters \n",
    "n=3\n",
    "grid_letter=[]\n",
    "for i in range(3):\n",
    "    xi=[]\n",
    "    for j in range(3):\n",
    "        xij = 'a'+str(i)+'_'+str(j)\n",
    "        xi.append(xij)\n",
    "    grid_letter.append(xi)"
   ]
  },
  {
   "cell_type": "code",
   "execution_count": 169,
   "metadata": {},
   "outputs": [],
   "source": [
    "# finding routes each poitn can go > < ^ v\n",
    "routes = []\n",
    "for i in range(n):\n",
    "    for j in range(n):\n",
    "        # check if the point is bloced  \n",
    "        if graph[i][j]=='X':\n",
    "            continue\n",
    "        # check boundries i,j >=0 <=n-1\n",
    "        \n",
    "        #left\n",
    "        if i-1 >=0:\n",
    "            if graph[i-1][j]=='.':\n",
    "                next_step = (grid_letter[i][j],grid_letter[i-1][j])\n",
    "                routes.append(next_step)\n",
    "        #up\n",
    "        if j-1 >=0:\n",
    "            if graph[i][j-1]=='.':\n",
    "                next_step = (grid_letter[i][j],grid_letter[i][j-1])\n",
    "                routes.append(next_step)\n",
    "        #right\n",
    "        if i+1 <=n-1:\n",
    "            if graph[i+1][j]=='.':\n",
    "                    next_step = (grid_letter[i][j],grid_letter[i+1][j])\n",
    "                    routes.append(next_step)\n",
    "        #down\n",
    "        if j+1 <=n-1:\n",
    "            if graph[i][j+1]=='.':\n",
    "                    next_step = (grid_letter[i][j],grid_letter[i][j+1])\n",
    "                    routes.append(next_step)"
   ]
  },
  {
   "cell_type": "code",
   "execution_count": 170,
   "metadata": {},
   "outputs": [],
   "source": [
    "# transform routes 2 dict\n",
    "def get_dict(routes):\n",
    "    graph_dic={}\n",
    "    for start,end in routes:\n",
    "            if start in graph_dic:\n",
    "                graph_dic[start].append(end)\n",
    "            else:\n",
    "                graph_dic[start]=[end]\n",
    "    return graph_dic\n",
    "\n",
    "# get path\n",
    "def get_path(start,end,routes_dic,path=[]):\n",
    "    # path of traveling \n",
    "    path = path+[start]\n",
    "    \n",
    "    # start = end\n",
    "    if start==end:\n",
    "        return [path]\n",
    "    \n",
    "    # start doesn't exist\n",
    "    if start not in routes_dic:\n",
    "        return []\n",
    "    \n",
    "    # recurssion (meat)\n",
    "    paths=[]\n",
    "    \n",
    "    for node in routes_dic[start]: # get the list of routes for each key\n",
    "        if node not in path: # if not visited \n",
    "            new_paths = get_path(node,end,routes_dic,path) #recurssive using the new point as start\n",
    "            for p in new_paths: # append all paths\n",
    "                paths.append(p)\n",
    "    return paths\n",
    "\n",
    "def get_shortest_path(start,end,routes_dic,path=[]):\n",
    "    # path of traveling \n",
    "    path = path+[start]\n",
    "    \n",
    "    # start = end\n",
    "    if start==end:\n",
    "        return path\n",
    "    \n",
    "    # start doesn't exist\n",
    "    if start not in routes_dic:\n",
    "        return []\n",
    "    \n",
    "    # recurssion (meat)\n",
    "    shortest_path=None\n",
    "    \n",
    "    for node in routes_dic[start]: # get the list of routes for each key\n",
    "        if node not in path: # if not visited \n",
    "            sp = get_shortest_path(node,end,routes_dic,path) #recurssive using the new point as start\n",
    "            \n",
    "            if sp:\n",
    "                if (shortest_path is None) or (len(sp) < len(shortest_path)):\n",
    "                    shortest_path = sp\n",
    "            \n",
    "    return shortest_path\n",
    "    "
   ]
  },
  {
   "cell_type": "code",
   "execution_count": 171,
   "metadata": {},
   "outputs": [
    {
     "data": {
      "text/plain": [
       "[['a0_0', 'a1_0', 'a2_0', 'a2_1', 'a2_2', 'a1_2'],\n",
       " ['a0_0', 'a0_1', 'a0_2', 'a1_2']]"
      ]
     },
     "execution_count": 171,
     "metadata": {},
     "output_type": "execute_result"
    }
   ],
   "source": [
    "routes_dic= get_dict(routes)\n",
    "start= grid_letter[startX][startY]\n",
    "end = grid_letter[goalX][goalY]\n",
    "get_path(start,end,routes_dic)\n"
   ]
  },
  {
   "cell_type": "code",
   "execution_count": 172,
   "metadata": {},
   "outputs": [
    {
     "data": {
      "text/plain": [
       "['a0_0', 'a0_1', 'a0_2', 'a1_2']"
      ]
     },
     "execution_count": 172,
     "metadata": {},
     "output_type": "execute_result"
    }
   ],
   "source": [
    "get_shortest_path(start,end,routes_dic)"
   ]
  },
  {
   "cell_type": "code",
   "execution_count": null,
   "metadata": {},
   "outputs": [],
   "source": []
  }
 ],
 "metadata": {
  "kernelspec": {
   "display_name": "Python 3.6 (tensorflow)",
   "language": "python",
   "name": "tensorflow"
  },
  "language_info": {
   "codemirror_mode": {
    "name": "ipython",
    "version": 3
   },
   "file_extension": ".py",
   "mimetype": "text/x-python",
   "name": "python",
   "nbconvert_exporter": "python",
   "pygments_lexer": "ipython3",
   "version": "3.6.10"
  }
 },
 "nbformat": 4,
 "nbformat_minor": 4
}
