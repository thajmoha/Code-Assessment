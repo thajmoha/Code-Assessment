{
 "cells": [
  {
   "cell_type": "code",
   "execution_count": 6,
   "metadata": {},
   "outputs": [
    {
     "name": "stdout",
     "output_type": "stream",
     "text": [
      "Array is sorted in 3 swaps.\n",
      "First Element:  1\n",
      "Last Element:  3\n"
     ]
    }
   ],
   "source": [
    "# a=[6,4,1]\n",
    "a=[3,2,1]\n",
    "\n",
    "swap=0\n",
    "\n",
    "for i in range(len(a)):\n",
    "    for j in range(len(a)-1):\n",
    "        if a[j]>a[j+1]:\n",
    "            swap+=1\n",
    "            a[j],a[j+1] = a[j+1],a[j]\n",
    "print('Array is sorted in {0} swaps.'.format(swap)) \n",
    "print('First Element: ',a[0])\n",
    "print('Last Element: ',a[-1])"
   ]
  },
  {
   "cell_type": "code",
   "execution_count": null,
   "metadata": {},
   "outputs": [],
   "source": []
  }
 ],
 "metadata": {
  "kernelspec": {
   "display_name": "Python 3.6 (tensorflow)",
   "language": "python",
   "name": "tensorflow"
  },
  "language_info": {
   "codemirror_mode": {
    "name": "ipython",
    "version": 3
   },
   "file_extension": ".py",
   "mimetype": "text/x-python",
   "name": "python",
   "nbconvert_exporter": "python",
   "pygments_lexer": "ipython3",
   "version": "3.6.10"
  }
 },
 "nbformat": 4,
 "nbformat_minor": 4
}
