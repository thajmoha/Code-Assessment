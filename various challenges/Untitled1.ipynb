{
 "cells": [
  {
   "cell_type": "code",
   "execution_count": 108,
   "metadata": {},
   "outputs": [],
   "source": [
    "from collections import defaultdict as ddict\n",
    "\n",
    "# graph\n",
    "\n",
    "def roadsAndLibraries(n, c_lib, c_road, cities):\n",
    "    if c_lib<=c_road:\n",
    "        return n*c_lib\n",
    "\n",
    "    # find single cities\n",
    "    list_of_cities=set()\n",
    "    for icity in cities:\n",
    "        list_of_cities.update(icity)\n",
    "        \n",
    "    \n",
    "    if len(list_of_cities)<n:\n",
    "        n2use = len(list_of_cities)\n",
    "        n_indp = n-len(list_of_cities)\n",
    "    else:\n",
    "        n2use=n\n",
    "        n_indp=0\n",
    "    \n",
    "    # build graph dict\n",
    "    graph = ddict(set)\n",
    "    for i,j in cities:\n",
    "        graph[i].add(j)\n",
    "        graph[j].add(i)\n",
    "            \n",
    "    print(graph)\n",
    "    \n",
    "    visited = {}\n",
    "    components ={}\n",
    "    count=0\n",
    "    \n",
    "    for k in graph.keys():\n",
    "        visited[k] = False\n",
    "        components[k]=0\n",
    "#     print(components)\n",
    "    def find_components(count,components):\n",
    "        for i in range(n2use): # loop on keys\n",
    "            item = list(graph.keys())[i]\n",
    "            if not visited[item]:\n",
    "#             if not components[item]:\n",
    "                count+=1\n",
    "                components = dfs(item,count)\n",
    "                \n",
    "        return (count,components)\n",
    "\n",
    "    def dfs2(at,count):\n",
    "#         visited[at]=True\n",
    "        components[at] = count\n",
    "        \n",
    "        for next_ in graph[at]:\n",
    "            components[next_] = count\n",
    "#             if not visited[next_] and components[next_]==0:\n",
    "#                 dfs(next_,count)\n",
    "        return components\n",
    "    \n",
    "    \n",
    "    def dfs(at,count):\n",
    "        visited[at]=True\n",
    "        components[at] = count\n",
    "        \n",
    "        for next_ in graph[at]:\n",
    "            if not visited[next_]:\n",
    "                dfs(next_,count)\n",
    "        return components\n",
    "    \n",
    "    (count,components) = find_components(count,components)\n",
    "#     print(components)\n",
    "    \n",
    "    n_lib = len(list(set(components.values())))\n",
    "    n_road=0\n",
    "    for i in list(set(components.values())):\n",
    "        n_road_i = len(list(filter(lambda x: x==i,components.values())))-1\n",
    "        n_road+=n_road_i\n",
    "\n",
    "    return n_road*c_road+(n_lib+n_indp)*c_lib"
   ]
  },
  {
   "cell_type": "code",
   "execution_count": 109,
   "metadata": {},
   "outputs": [],
   "source": [
    "cities = [[0,3],[0,2],[0,1],[1,2],[4,5],[5,6]]\n",
    "\n",
    "c_lib = 3\n",
    "c_road = 2\n",
    "n=7"
   ]
  },
  {
   "cell_type": "code",
   "execution_count": 110,
   "metadata": {},
   "outputs": [
    {
     "name": "stdout",
     "output_type": "stream",
     "text": [
      "defaultdict(<class 'set'>, {0: {1, 2, 3}, 3: {0}, 2: {0, 1}, 1: {0, 2}, 4: {5}, 5: {4, 6}, 6: {5}})\n"
     ]
    },
    {
     "data": {
      "text/plain": [
       "16"
      ]
     },
     "execution_count": 110,
     "metadata": {},
     "output_type": "execute_result"
    }
   ],
   "source": [
    "roadsAndLibraries(n, c_lib, c_road, cities)"
   ]
  },
  {
   "cell_type": "code",
   "execution_count": 3,
   "metadata": {},
   "outputs": [
    {
     "data": {
      "text/plain": [
       "[[0, 3], [0, 2], [0, 1], [1, 2], [4, 5], [5, 6]]"
      ]
     },
     "execution_count": 3,
     "metadata": {},
     "output_type": "execute_result"
    }
   ],
   "source": [
    "cities"
   ]
  },
  {
   "cell_type": "code",
   "execution_count": 16,
   "metadata": {},
   "outputs": [],
   "source": [
    "list_of_cities=set()\n",
    "for icity in cities:\n",
    "#         print(icity)\n",
    "#     list_of_cities.update(icity)\n",
    "    list_of_cities = (list_of_cities|set(icity))"
   ]
  },
  {
   "cell_type": "code",
   "execution_count": 17,
   "metadata": {},
   "outputs": [
    {
     "data": {
      "text/plain": [
       "{0, 1, 2, 3, 4, 5, 6}"
      ]
     },
     "execution_count": 17,
     "metadata": {},
     "output_type": "execute_result"
    }
   ],
   "source": [
    "list_of_cities"
   ]
  },
  {
   "cell_type": "code",
   "execution_count": 13,
   "metadata": {},
   "outputs": [],
   "source": [
    "import numpy as np\n",
    "B = np.array(cities)"
   ]
  },
  {
   "cell_type": "code",
   "execution_count": null,
   "metadata": {},
   "outputs": [],
   "source": [
    "graph = ddict(set)\n",
    "for i,j in cities:\n",
    "    graph[i].add(j)\n",
    "    graph[j].add(i)\n",
    "    \n",
    "    "
   ]
  },
  {
   "cell_type": "code",
   "execution_count": 37,
   "metadata": {},
   "outputs": [],
   "source": [
    "# graph=ddict(list)\n",
    "graph={}\n",
    "for i,j in cities:\n",
    "    if i not in graph:\n",
    "        graph[i]=[j]\n",
    "    else:    \n",
    "        graph[i].append(j)\n",
    "        \n",
    "        \n",
    "    if j not in graph:\n",
    "        graph[j]=[i]\n",
    "    else:    \n",
    "        graph[j].append(i)\n",
    "        \n",
    "        \n",
    "#         graph[j] = [i]\n",
    "#         graph[j].append(i)"
   ]
  },
  {
   "cell_type": "code",
   "execution_count": 38,
   "metadata": {},
   "outputs": [
    {
     "data": {
      "text/plain": [
       "{0: [3, 2, 1], 3: [0], 2: [0, 1], 1: [0, 2], 4: [5], 5: [4, 6], 6: [5]}"
      ]
     },
     "execution_count": 38,
     "metadata": {},
     "output_type": "execute_result"
    }
   ],
   "source": [
    "graph"
   ]
  },
  {
   "cell_type": "code",
   "execution_count": 41,
   "metadata": {},
   "outputs": [
    {
     "data": {
      "text/plain": [
       "dict_keys([0, 3, 2, 1, 4, 5, 6])"
      ]
     },
     "execution_count": 41,
     "metadata": {},
     "output_type": "execute_result"
    }
   ],
   "source": [
    "graph.keys()"
   ]
  },
  {
   "cell_type": "code",
   "execution_count": 51,
   "metadata": {},
   "outputs": [
    {
     "ename": "NameError",
     "evalue": "name 'components' is not defined",
     "output_type": "error",
     "traceback": [
      "\u001b[1;31m---------------------------------------------------------------------------\u001b[0m",
      "\u001b[1;31mNameError\u001b[0m                                 Traceback (most recent call last)",
      "\u001b[1;32m<ipython-input-51-1de95b1c614d>\u001b[0m in \u001b[0;36m<module>\u001b[1;34m\u001b[0m\n\u001b[1;32m----> 1\u001b[1;33m \u001b[0mcomponents\u001b[0m\u001b[1;33m\u001b[0m\u001b[1;33m\u001b[0m\u001b[0m\n\u001b[0m",
      "\u001b[1;31mNameError\u001b[0m: name 'components' is not defined"
     ]
    }
   ],
   "source": [
    "components"
   ]
  },
  {
   "cell_type": "code",
   "execution_count": null,
   "metadata": {},
   "outputs": [],
   "source": [
    "0:1\n",
    "3:1\n",
    "2:1\n",
    "1:1\n",
    "4:0\n",
    "5:0"
   ]
  },
  {
   "cell_type": "code",
   "execution_count": 55,
   "metadata": {},
   "outputs": [
    {
     "name": "stdout",
     "output_type": "stream",
     "text": [
      "[1, 2, 3, 4, 6]\n",
      "[1, 2, 3, 4, 6, 7]\n",
      "[1, 2, 3, 4, 6, 7, 8]\n",
      "[1, 2, 3, 4, 6, 7, 8, 9]\n",
      "[1, 2, 3, 4, 6, 7, 8, 9, 11]\n",
      "[1, 2, 3, 4, 6, 7, 8, 9, 11, 12]\n"
     ]
    }
   ],
   "source": [
    "A=[1,2,3,4]\n",
    "for i in A:\n",
    "    A.append(i+5)\n",
    "    print(A)\n",
    "    if len(A)==10:\n",
    "        break"
   ]
  },
  {
   "cell_type": "code",
   "execution_count": 56,
   "metadata": {},
   "outputs": [
    {
     "data": {
      "text/plain": [
       "[[0, 3], [0, 2], [0, 1], [1, 2], [4, 5], [5, 6]]"
      ]
     },
     "execution_count": 56,
     "metadata": {},
     "output_type": "execute_result"
    }
   ],
   "source": [
    "cities"
   ]
  },
  {
   "cell_type": "code",
   "execution_count": 58,
   "metadata": {},
   "outputs": [
    {
     "data": {
      "text/plain": [
       "1"
      ]
     },
     "execution_count": 58,
     "metadata": {},
     "output_type": "execute_result"
    }
   ],
   "source": [
    "len(set(cities[0])&set(cities[1]))"
   ]
  },
  {
   "cell_type": "code",
   "execution_count": 129,
   "metadata": {},
   "outputs": [
    {
     "data": {
      "text/plain": [
       "{0, 3}"
      ]
     },
     "execution_count": 129,
     "metadata": {},
     "output_type": "execute_result"
    }
   ],
   "source": [
    "A = set(cities[0])\n",
    "A"
   ]
  },
  {
   "cell_type": "code",
   "execution_count": 131,
   "metadata": {},
   "outputs": [
    {
     "name": "stdout",
     "output_type": "stream",
     "text": [
      "{0, 2, 3}\n"
     ]
    }
   ],
   "source": [
    "i=1\n",
    "if len(A&set(cities[i])) !=0:\n",
    "    print(A|set(cities[i]))\n",
    "    A.update(set(cities[i]))\n",
    "    "
   ]
  },
  {
   "cell_type": "code",
   "execution_count": 92,
   "metadata": {},
   "outputs": [
    {
     "data": {
      "text/plain": [
       "{0, 1, 2, 3}"
      ]
     },
     "execution_count": 92,
     "metadata": {},
     "output_type": "execute_result"
    }
   ],
   "source": [
    "A"
   ]
  },
  {
   "cell_type": "code",
   "execution_count": 120,
   "metadata": {},
   "outputs": [],
   "source": [
    "A = ddict(set)\n",
    "A[0] = set(cities[0])"
   ]
  },
  {
   "cell_type": "code",
   "execution_count": 121,
   "metadata": {},
   "outputs": [
    {
     "data": {
      "text/plain": [
       "defaultdict(set, {0: {0, 3}})"
      ]
     },
     "execution_count": 121,
     "metadata": {},
     "output_type": "execute_result"
    }
   ],
   "source": [
    "A"
   ]
  },
  {
   "cell_type": "code",
   "execution_count": 128,
   "metadata": {},
   "outputs": [
    {
     "name": "stdout",
     "output_type": "stream",
     "text": [
      "===================\n",
      "0\n",
      "in if\n",
      "[0, 3]\n",
      "--------\n",
      "{0, 3}\n",
      "===================\n",
      "1\n",
      "===================\n",
      "2\n",
      "===================\n",
      "3\n",
      "===================\n",
      "4\n",
      "===================\n",
      "5\n"
     ]
    },
    {
     "data": {
      "text/plain": [
       "defaultdict(set, {0: {0, 3}})"
      ]
     },
     "execution_count": 128,
     "metadata": {},
     "output_type": "execute_result"
    }
   ],
   "source": [
    "\n",
    "for i in range(len(cities)):\n",
    "    print('===================')\n",
    "    print(i)\n",
    "    \n",
    "    if len(set(A[i])&set(cities[i])) !=0:\n",
    "        print(set(A[i])|set(cities[i]))\n",
    "        for icity in cities[i]:\n",
    "            A[i].add(icity)\n",
    "    else:\n",
    "        A[i] = set(cities[i])\n",
    "A    "
   ]
  },
  {
   "cell_type": "code",
   "execution_count": 122,
   "metadata": {},
   "outputs": [
    {
     "data": {
      "text/plain": [
       "False"
      ]
     },
     "execution_count": 122,
     "metadata": {},
     "output_type": "execute_result"
    }
   ],
   "source": [
    "i in A"
   ]
  },
  {
   "cell_type": "code",
   "execution_count": 124,
   "metadata": {},
   "outputs": [
    {
     "data": {
      "text/plain": [
       "True"
      ]
     },
     "execution_count": 124,
     "metadata": {},
     "output_type": "execute_result"
    }
   ],
   "source": [
    "0 in A"
   ]
  },
  {
   "cell_type": "code",
   "execution_count": null,
   "metadata": {},
   "outputs": [],
   "source": []
  }
 ],
 "metadata": {
  "kernelspec": {
   "display_name": "Python 3.6 (tensorflow)",
   "language": "python",
   "name": "tensorflow"
  },
  "language_info": {
   "codemirror_mode": {
    "name": "ipython",
    "version": 3
   },
   "file_extension": ".py",
   "mimetype": "text/x-python",
   "name": "python",
   "nbconvert_exporter": "python",
   "pygments_lexer": "ipython3",
   "version": "3.6.10"
  }
 },
 "nbformat": 4,
 "nbformat_minor": 4
}
