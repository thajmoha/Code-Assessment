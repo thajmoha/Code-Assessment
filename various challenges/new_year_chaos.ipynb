{
 "cells": [
  {
   "cell_type": "code",
   "execution_count": 66,
   "metadata": {},
   "outputs": [],
   "source": [
    "def try_this(q):\n",
    "    org_line = list(range(1,len(q)+1))\n",
    "    c=0\n",
    "    def moveleft(arr,item,move):\n",
    "        x = arr.index(item)\n",
    "        arr.pop(x)\n",
    "        arr.insert(x-move,item)\n",
    "        return arr\n",
    "\n",
    "\n",
    "    for item in q:\n",
    "        x1 = org_line.index(item)\n",
    "        x2 = q.index(item)\n",
    "        move=x1-x2\n",
    "        if move >2:\n",
    "            return print('Too Chaotic')\n",
    "        c+=move\n",
    "        if move!=0:\n",
    "            org_line = moveleft(org_line,item,move)\n",
    "    #     print(move)\n",
    "    #     print(org_line)\n",
    "    return print(c)"
   ]
  },
  {
   "cell_type": "code",
   "execution_count": 69,
   "metadata": {},
   "outputs": [
    {
     "name": "stdout",
     "output_type": "stream",
     "text": [
      "7\n"
     ]
    }
   ],
   "source": [
    "q = [1, 2, 5, 3, 7, 8, 6, 4]\n",
    "# q=[2, 1, 5, 3, 4]\n",
    "# q=[2, 5, 1, 3, 4]\n",
    "try_this(q)"
   ]
  },
  {
   "cell_type": "code",
   "execution_count": null,
   "metadata": {},
   "outputs": [],
   "source": []
  }
 ],
 "metadata": {
  "kernelspec": {
   "display_name": "Python 3.6 (tensorflow)",
   "language": "python",
   "name": "tensorflow"
  },
  "language_info": {
   "codemirror_mode": {
    "name": "ipython",
    "version": 3
   },
   "file_extension": ".py",
   "mimetype": "text/x-python",
   "name": "python",
   "nbconvert_exporter": "python",
   "pygments_lexer": "ipython3",
   "version": "3.6.10"
  }
 },
 "nbformat": 4,
 "nbformat_minor": 4
}
