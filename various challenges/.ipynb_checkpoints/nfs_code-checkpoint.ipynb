{
 "cells": [
  {
   "cell_type": "code",
   "execution_count": 34,
   "metadata": {},
   "outputs": [
    {
     "data": {
      "text/plain": [
       "[False, False, False, False, True, True]"
      ]
     },
     "execution_count": 34,
     "metadata": {},
     "output_type": "execute_result"
    }
   ],
   "source": [
    "n =6 # number of nodes\n",
    "# g = # graph list\n",
    "\n",
    "visited = [False]*n\n",
    "# graph= #a dict represetn graph\n",
    "graph = {0:[1],1:[1,2],2:[1,3],3:[2],4:[5],5:[4]}\n",
    "\n",
    "\n",
    "def dfs(at):\n",
    "    if visited[at]:\n",
    "        return\n",
    "    else:\n",
    "        visited[at]=True\n",
    "        neighbors = graph[at]\n",
    "        for next_ in neighbors:\n",
    "            dfs(next_)\n",
    "    # start DFS at node zero\n",
    "\n",
    "start=4\n",
    "dfs(start)\n",
    "visited"
   ]
  },
  {
   "cell_type": "code",
   "execution_count": 60,
   "metadata": {},
   "outputs": [],
   "source": [
    "n =9 # number of nodes\n",
    "# g = # graph list\n",
    "\n",
    "visited = [False]*n\n",
    "# graph= #a dict represetn graph\n",
    "graph = {0:[1],1:[1,2],2:[1,3],3:[2],4:[5],5:[4],6:[7,8],7:[6,8],8:[6,7]}\n",
    "\n",
    "\n",
    "\n",
    "count=0\n",
    "components=[0]*n\n",
    "def find_components(count,components):\n",
    "    for i in range(n):\n",
    "        if not visited[i]:\n",
    "            count+=1\n",
    "            components = dfs(i,count)\n",
    "            print(components)\n",
    "    return (count,components)\n",
    "def dfs(at,count):\n",
    "    visited[at]=True\n",
    "    components[at] = count\n",
    "#     print(count)\n",
    "    for next_ in graph[at]:\n",
    "        if not visited[next_]:\n",
    "            dfs(next_,count)\n",
    "    return components"
   ]
  },
  {
   "cell_type": "code",
   "execution_count": 61,
   "metadata": {},
   "outputs": [
    {
     "name": "stdout",
     "output_type": "stream",
     "text": [
      "[1, 1, 1, 1, 0, 0, 0, 0, 0]\n",
      "[1, 1, 1, 1, 2, 2, 0, 0, 0]\n",
      "[1, 1, 1, 1, 2, 2, 3, 3, 3]\n"
     ]
    },
    {
     "data": {
      "text/plain": [
       "(3, [1, 1, 1, 1, 2, 2, 3, 3, 3])"
      ]
     },
     "execution_count": 61,
     "metadata": {},
     "output_type": "execute_result"
    }
   ],
   "source": [
    "find_components(count,components)"
   ]
  },
  {
   "cell_type": "code",
   "execution_count": 90,
   "metadata": {},
   "outputs": [],
   "source": [
    "cities = [[0,3],[0,2],[0,1],[1,2],[4,5],[5,6]]\n",
    "city_dic = {}\n",
    "for u,v in cities:\n",
    "    if u not in city_dic:\n",
    "        city_dic[u]=[v]\n",
    "    else:\n",
    "        city_dic[u].append(v)\n",
    "        \n",
    "    if v not in city_dic:\n",
    "        city_dic[v]=[u]\n",
    "    else:\n",
    "        city_dic[v].append(u)"
   ]
  },
  {
   "cell_type": "code",
   "execution_count": 91,
   "metadata": {},
   "outputs": [
    {
     "data": {
      "text/plain": [
       "{0: [3, 2, 1], 3: [0], 2: [0, 1], 1: [0, 2], 4: [5], 5: [4, 6], 6: [5]}"
      ]
     },
     "execution_count": 91,
     "metadata": {},
     "output_type": "execute_result"
    }
   ],
   "source": [
    "city_dic"
   ]
  },
  {
   "cell_type": "code",
   "execution_count": 105,
   "metadata": {},
   "outputs": [],
   "source": [
    "n =len(city_dic) # number of nodes\n",
    "visited = [False]*n\n",
    "graph = city_dic\n",
    "count=0\n",
    "components=[0]*n\n",
    "c_lib = 3\n",
    "c_road = 2"
   ]
  },
  {
   "cell_type": "code",
   "execution_count": 94,
   "metadata": {},
   "outputs": [],
   "source": [
    "def find_components(count,components):\n",
    "    for i in range(n):\n",
    "        \n",
    "        if not visited[i]:\n",
    "            count+=1\n",
    "            components = dfs(i,count)\n",
    "    return (count,components)\n",
    "\n",
    "def dfs(at,count):\n",
    "    visited[at]=True\n",
    "    components[at] = count\n",
    "    for next_ in graph[at]:\n",
    "        if not visited[next_]:\n",
    "            dfs(next_,count)\n",
    "    return components"
   ]
  },
  {
   "cell_type": "code",
   "execution_count": 95,
   "metadata": {},
   "outputs": [
    {
     "data": {
      "text/plain": [
       "(2, [1, 1, 1, 1, 2, 2, 2])"
      ]
     },
     "execution_count": 95,
     "metadata": {},
     "output_type": "execute_result"
    }
   ],
   "source": [
    "find_components(count,components)"
   ]
  },
  {
   "cell_type": "code",
   "execution_count": 96,
   "metadata": {},
   "outputs": [
    {
     "data": {
      "text/plain": [
       "[1, 1, 1, 1, 2, 2, 2]"
      ]
     },
     "execution_count": 96,
     "metadata": {},
     "output_type": "execute_result"
    }
   ],
   "source": [
    "components"
   ]
  },
  {
   "cell_type": "code",
   "execution_count": 103,
   "metadata": {},
   "outputs": [],
   "source": [
    "n_lib = len(list(set(components)))\n",
    "n_road=0\n",
    "for i in list(set(components)):\n",
    "    n_road_i = len(list(filter(lambda x: x==i,components)))-1\n",
    "    n_road+=n_road_i"
   ]
  },
  {
   "cell_type": "code",
   "execution_count": 106,
   "metadata": {},
   "outputs": [
    {
     "data": {
      "text/plain": [
       "16"
      ]
     },
     "execution_count": 106,
     "metadata": {},
     "output_type": "execute_result"
    }
   ],
   "source": [
    "n_road*c_road+n_lib*c_lib"
   ]
  },
  {
   "cell_type": "code",
   "execution_count": null,
   "metadata": {},
   "outputs": [],
   "source": []
  }
 ],
 "metadata": {
  "kernelspec": {
   "display_name": "Python 3.6 (tensorflow)",
   "language": "python",
   "name": "tensorflow"
  },
  "language_info": {
   "codemirror_mode": {
    "name": "ipython",
    "version": 3
   },
   "file_extension": ".py",
   "mimetype": "text/x-python",
   "name": "python",
   "nbconvert_exporter": "python",
   "pygments_lexer": "ipython3",
   "version": "3.6.10"
  }
 },
 "nbformat": 4,
 "nbformat_minor": 4
}
