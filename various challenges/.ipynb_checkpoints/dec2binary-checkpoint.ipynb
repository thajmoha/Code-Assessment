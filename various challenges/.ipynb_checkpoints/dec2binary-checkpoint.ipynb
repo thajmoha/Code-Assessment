{
 "cells": [
  {
   "cell_type": "code",
   "execution_count": 15,
   "metadata": {},
   "outputs": [
    {
     "name": "stdout",
     "output_type": "stream",
     "text": [
      "10101110\n"
     ]
    }
   ],
   "source": [
    "num = 174\n",
    "q=num\n",
    "bina=[]\n",
    "while q!=0:\n",
    "    r = q%2\n",
    "    q = q//2\n",
    "    \n",
    "    bina.append(r)\n",
    "#     print(r)\n",
    "bina.reverse()\n",
    "print(''.join(str(v) for v in bina))"
   ]
  }
 ],
 "metadata": {
  "kernelspec": {
   "display_name": "Python 3.6 (tensorflow)",
   "language": "python",
   "name": "tensorflow"
  },
  "language_info": {
   "codemirror_mode": {
    "name": "ipython",
    "version": 3
   },
   "file_extension": ".py",
   "mimetype": "text/x-python",
   "name": "python",
   "nbconvert_exporter": "python",
   "pygments_lexer": "ipython3",
   "version": "3.6.10"
  }
 },
 "nbformat": 4,
 "nbformat_minor": 4
}
