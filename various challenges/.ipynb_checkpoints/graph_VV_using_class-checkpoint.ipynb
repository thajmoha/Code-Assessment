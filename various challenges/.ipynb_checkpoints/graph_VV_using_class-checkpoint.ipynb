{
 "cells": [
  {
   "cell_type": "markdown",
   "metadata": {},
   "source": [
    "To solve graph/ path questions:\n",
    " - find routes using letters a0_0 a0_1 etc\n",
    " - transform routes to dictionary 'start':['opt1','opt2']\n",
    " - create get path function using sart/end/routes_dic/"
   ]
  },
  {
   "cell_type": "code",
   "execution_count": 1,
   "metadata": {},
   "outputs": [],
   "source": [
    "graph = ['...','.X.','...']\n",
    "startX=0\n",
    "startY=0\n",
    "goalX=1\n",
    "goalY=2"
   ]
  },
  {
   "cell_type": "code",
   "execution_count": 18,
   "metadata": {},
   "outputs": [],
   "source": [
    "def graph2letter(graph):\n",
    "    n = len(graph)\n",
    "    graph_letter=[]\n",
    "    for i in range(n):\n",
    "        xi = []\n",
    "        for j in range(n):\n",
    "            xij ='a'+str(i)+'_'+str(j)\n",
    "            xi.append(xij)\n",
    "        graph_letter.append(xi)\n",
    "    return graph_letter\n"
   ]
  },
  {
   "cell_type": "code",
   "execution_count": 20,
   "metadata": {},
   "outputs": [
    {
     "data": {
      "text/plain": [
       "[['a0_0', 'a0_1', 'a0_2'], ['a1_0', 'a1_1', 'a1_2'], ['a2_0', 'a2_1', 'a2_2']]"
      ]
     },
     "execution_count": 20,
     "metadata": {},
     "output_type": "execute_result"
    }
   ],
   "source": [
    "graph_letter = graph2letter(graph)\n",
    "routes"
   ]
  },
  {
   "cell_type": "code",
   "execution_count": 116,
   "metadata": {},
   "outputs": [],
   "source": [
    "def find_routes(graph,graph_letter):\n",
    "    n = len(graph)\n",
    "    routes=[]\n",
    "    for i in range(n):\n",
    "        for j in range(n):\n",
    "            \n",
    "            if graph[i][j] =='X':\n",
    "                continue\n",
    "            else:\n",
    "                start = graph_letter[i][j]\n",
    "                #left\n",
    "                if i-1>=0  and graph[i-1][j] =='.':\n",
    "                        end = graph_letter[i-1][j]\n",
    "                        routes.append((start,end))\n",
    "                        \n",
    "                #up\n",
    "                if j-1>=0 and graph[i][j-1] =='.':\n",
    "                        end = graph_letter[i][j-1]\n",
    "                        routes.append((start,end))\n",
    "                \n",
    "                \n",
    "                #right\n",
    "                if i+1<=n-1 and graph[i+1][j] =='.':\n",
    "                        end = graph_letter[i+1][j]\n",
    "                        routes.append((start,end))\n",
    "                        \n",
    "                        \n",
    "                #down\n",
    "                if j+1<=n-1 and graph[i][j+1] =='.':\n",
    "                        end = graph_letter[i][j+1]\n",
    "                        routes.append((start,end))\n",
    "                        \n",
    "    return routes"
   ]
  },
  {
   "cell_type": "code",
   "execution_count": 124,
   "metadata": {},
   "outputs": [],
   "source": [
    "# recursive\n",
    "def find_routes2(i,j,graph,graph_letter,routes=[]):\n",
    "    n=len(graph)\n",
    "    \n",
    "    if graph[i][j] !='X':\n",
    "        start = graph_letter[i][j]\n",
    "#         #left\n",
    "        if i-1>=0  and graph[i-1][j] =='.':\n",
    "            end = graph_letter[i-1][j]\n",
    "            routes.append((start,end))\n",
    "            if end not in [v for v,w in  routes]:\n",
    "                new_rout = find_routes2(i-1,j,graph,graph_letter,routes)\n",
    "\n",
    "#         #up\n",
    "        if j-1>=0 and graph[i][j-1] =='.':\n",
    "            end = graph_letter[i][j-1]\n",
    "            routes.append((start,end))\n",
    "            if end not in [v for v,w in  routes]:                 \n",
    "                new_rout = find_routes2(i,j-1,graph,graph_letter,routes)\n",
    "\n",
    "\n",
    "        #right\n",
    "        if i+1<=n-1 and graph[i+1][j] =='.':\n",
    "            end = graph_letter[i+1][j]\n",
    "            routes.append((start,end))\n",
    "            if end not in [v for v,w in  routes]:\n",
    "                new_rout = find_routes2(i+1,j,graph,graph_letter,routes)\n",
    "\n",
    "\n",
    "\n",
    "        #down\n",
    "        if j+1<=n-1 and graph[i][j+1] =='.':\n",
    "                end = graph_letter[i][j+1]\n",
    "                routes.append((start,end))\n",
    "                if end not in [v for v,w in  routes]:\n",
    "                    new_rout = find_routes2(i,j+1,graph,graph_letter,routes)\n",
    "\n",
    "                        \n",
    "    return routes"
   ]
  },
  {
   "cell_type": "code",
   "execution_count": 34,
   "metadata": {},
   "outputs": [],
   "source": [
    "routes = find_routes(graph,graph_letter)"
   ]
  },
  {
   "cell_type": "code",
   "execution_count": 60,
   "metadata": {},
   "outputs": [],
   "source": [
    "class Graph:\n",
    "    def __init__(self,routes):\n",
    "        self.routes = routes\n",
    "        self.routes_dic = {}\n",
    "        for start,end in self.routes:\n",
    "            if start in self.routes_dic:\n",
    "                self.routes_dic[start].append(end)\n",
    "            else:\n",
    "                self.routes_dic[start] = [end]\n",
    "    \n",
    "    \n",
    "    def get_path(self,start,end,path=[]):\n",
    "        path = path+[start]\n",
    "        if start == end:\n",
    "            return [path]\n",
    "        if start not in self.routes_dic:\n",
    "            return []\n",
    "        \n",
    "        paths=[]\n",
    "        for node in self.routes_dic[start]:\n",
    "            if node not in path:\n",
    "                new_path = self.get_path(node,end,path)\n",
    "                for p in new_path:\n",
    "                    paths.append(p)\n",
    "        return paths\n",
    "                    \n",
    "        "
   ]
  },
  {
   "cell_type": "code",
   "execution_count": 61,
   "metadata": {},
   "outputs": [],
   "source": [
    "gg = Graph(routes)"
   ]
  },
  {
   "cell_type": "code",
   "execution_count": 62,
   "metadata": {},
   "outputs": [
    {
     "data": {
      "text/plain": [
       "[['a0_0', 'a1_0', 'a2_0', 'a2_1', 'a2_2', 'a1_2', 'a0_2'],\n",
       " ['a0_0', 'a0_1', 'a0_2']]"
      ]
     },
     "execution_count": 62,
     "metadata": {},
     "output_type": "execute_result"
    }
   ],
   "source": [
    "gg.get_path('a0_0','a0_2')"
   ]
  },
  {
   "cell_type": "code",
   "execution_count": 168,
   "metadata": {},
   "outputs": [],
   "source": [
    "# transforing gid to letters \n",
    "n=3\n",
    "grid_letter=[]\n",
    "for i in range(3):\n",
    "    xi=[]\n",
    "    for j in range(3):\n",
    "        xij = 'a'+str(i)+'_'+str(j)\n",
    "        xi.append(xij)\n",
    "    grid_letter.append(xi)"
   ]
  },
  {
   "cell_type": "code",
   "execution_count": 169,
   "metadata": {},
   "outputs": [],
   "source": [
    "# finding routes each poitn can go > < ^ v\n",
    "routes = []\n",
    "for i in range(n):\n",
    "    for j in range(n):\n",
    "        # check if the point is bloced  \n",
    "        if graph[i][j]=='X':\n",
    "            continue\n",
    "        # check boundries i,j >=0 <=n-1\n",
    "        \n",
    "        #left\n",
    "        if i-1 >=0:\n",
    "            if graph[i-1][j]=='.':\n",
    "                next_step = (grid_letter[i][j],grid_letter[i-1][j])\n",
    "                routes.append(next_step)\n",
    "        #up\n",
    "        if j-1 >=0:\n",
    "            if graph[i][j-1]=='.':\n",
    "                next_step = (grid_letter[i][j],grid_letter[i][j-1])\n",
    "                routes.append(next_step)\n",
    "        #right\n",
    "        if i+1 <=n-1:\n",
    "            if graph[i+1][j]=='.':\n",
    "                    next_step = (grid_letter[i][j],grid_letter[i+1][j])\n",
    "                    routes.append(next_step)\n",
    "        #down\n",
    "        if j+1 <=n-1:\n",
    "            if graph[i][j+1]=='.':\n",
    "                    next_step = (grid_letter[i][j],grid_letter[i][j+1])\n",
    "                    routes.append(next_step)"
   ]
  },
  {
   "cell_type": "code",
   "execution_count": 118,
   "metadata": {},
   "outputs": [],
   "source": [
    "# transform routes 2 dict\n",
    "def get_dict(routes):\n",
    "    graph_dic={}\n",
    "    for start,end in routes:\n",
    "            if start in graph_dic:\n",
    "                graph_dic[start].append(end)\n",
    "            else:\n",
    "                graph_dic[start]=[end]\n",
    "    return graph_dic\n",
    "\n",
    "# get path\n",
    "def get_path(start,end,routes_dic,path=[]):\n",
    "    # path of traveling \n",
    "    path = path+[start]\n",
    "    \n",
    "    # start = end\n",
    "    if start==end:\n",
    "        return [path]\n",
    "    \n",
    "    # start doesn't exist\n",
    "    if start not in routes_dic:\n",
    "        return []\n",
    "    \n",
    "    # recurssion (meat)\n",
    "    paths=[]\n",
    "    \n",
    "    for node in routes_dic[start]: # get the list of routes for each key\n",
    "        if node not in path: # if not visited \n",
    "            new_paths = get_path(node,end,routes_dic,path) #recurssive using the new point as start\n",
    "            for p in new_paths: # append all paths\n",
    "                paths.append(p)\n",
    "    return paths\n",
    "\n",
    "def get_shortest_path(start,end,routes_dic,path=[]):\n",
    "    # path of traveling \n",
    "    path = path+[start]\n",
    "    \n",
    "    # start = end\n",
    "    if start==end:\n",
    "        return path\n",
    "    \n",
    "    # start doesn't exist\n",
    "    if start not in routes_dic:\n",
    "        return []\n",
    "    \n",
    "    # recurssion (meat)\n",
    "    shortest_path=None\n",
    "    \n",
    "    for node in routes_dic[start]: # get the list of routes for each key\n",
    "        if node not in path: # if not visited \n",
    "            sp = get_shortest_path(node,end,routes_dic,path) #recurssive using the new point as start\n",
    "            \n",
    "            if sp:\n",
    "                if (shortest_path is None) or (len(sp) < len(shortest_path)):\n",
    "                    shortest_path = sp\n",
    "            \n",
    "    return shortest_path\n",
    "    "
   ]
  },
  {
   "cell_type": "code",
   "execution_count": 171,
   "metadata": {},
   "outputs": [
    {
     "data": {
      "text/plain": [
       "[['a0_0', 'a1_0', 'a2_0', 'a2_1', 'a2_2', 'a1_2'],\n",
       " ['a0_0', 'a0_1', 'a0_2', 'a1_2']]"
      ]
     },
     "execution_count": 171,
     "metadata": {},
     "output_type": "execute_result"
    }
   ],
   "source": [
    "routes_dic= get_dict(routes)\n",
    "start= grid_letter[startX][startY]\n",
    "end = grid_letter[goalX][goalY]\n",
    "get_path(start,end,routes_dic)\n"
   ]
  },
  {
   "cell_type": "code",
   "execution_count": 172,
   "metadata": {},
   "outputs": [
    {
     "data": {
      "text/plain": [
       "['a0_0', 'a0_1', 'a0_2', 'a1_2']"
      ]
     },
     "execution_count": 172,
     "metadata": {},
     "output_type": "execute_result"
    }
   ],
   "source": [
    "get_shortest_path(start,end,routes_dic)"
   ]
  },
  {
   "cell_type": "markdown",
   "metadata": {},
   "source": [
    "Try this to fix"
   ]
  },
  {
   "cell_type": "code",
   "execution_count": 125,
   "metadata": {},
   "outputs": [
    {
     "data": {
      "text/plain": [
       "[('a0_0', 'a1_0'),\n",
       " ('a1_0', 'a0_0'),\n",
       " ('a1_0', 'a2_0'),\n",
       " ('a2_0', 'a1_0'),\n",
       " ('a2_0', 'a2_1'),\n",
       " ('a2_1', 'a2_0'),\n",
       " ('a2_1', 'a2_2'),\n",
       " ('a2_2', 'a1_2'),\n",
       " ('a1_2', 'a0_2'),\n",
       " ('a0_2', 'a0_1'),\n",
       " ('a0_1', 'a0_0'),\n",
       " ('a0_1', 'a0_2'),\n",
       " ('a0_2', 'a1_2'),\n",
       " ('a1_2', 'a2_2'),\n",
       " ('a2_2', 'a2_1'),\n",
       " ('a0_0', 'a0_1')]"
      ]
     },
     "execution_count": 125,
     "metadata": {},
     "output_type": "execute_result"
    }
   ],
   "source": [
    "X = find_routes2(0,0,graph,graph_letter)\n",
    "X"
   ]
  },
  {
   "cell_type": "code",
   "execution_count": 126,
   "metadata": {},
   "outputs": [
    {
     "data": {
      "text/plain": [
       "{'a0_0': ['a1_0', 'a0_1'],\n",
       " 'a1_0': ['a0_0', 'a2_0'],\n",
       " 'a2_0': ['a1_0', 'a2_1'],\n",
       " 'a2_1': ['a2_0', 'a2_2'],\n",
       " 'a2_2': ['a1_2', 'a2_1'],\n",
       " 'a1_2': ['a0_2', 'a2_2'],\n",
       " 'a0_2': ['a0_1', 'a1_2'],\n",
       " 'a0_1': ['a0_0', 'a0_2']}"
      ]
     },
     "execution_count": 126,
     "metadata": {},
     "output_type": "execute_result"
    }
   ],
   "source": [
    "get_dict(X)"
   ]
  },
  {
   "cell_type": "code",
   "execution_count": null,
   "metadata": {},
   "outputs": [],
   "source": []
  },
  {
   "cell_type": "code",
   "execution_count": 127,
   "metadata": {},
   "outputs": [
    {
     "data": {
      "text/plain": [
       "{'a0_0': ['a1_0', 'a0_1'],\n",
       " 'a0_1': ['a0_0', 'a0_2'],\n",
       " 'a0_2': ['a0_1', 'a1_2'],\n",
       " 'a1_0': ['a0_0', 'a2_0'],\n",
       " 'a1_2': ['a0_2', 'a2_2'],\n",
       " 'a2_0': ['a1_0', 'a2_1'],\n",
       " 'a2_1': ['a2_0', 'a2_2'],\n",
       " 'a2_2': ['a1_2', 'a2_1']}"
      ]
     },
     "execution_count": 127,
     "metadata": {},
     "output_type": "execute_result"
    }
   ],
   "source": [
    "find_routes(graph,graph_letter)"
   ]
  },
  {
   "cell_type": "code",
   "execution_count": 128,
   "metadata": {},
   "outputs": [
    {
     "data": {
      "text/plain": [
       "1"
      ]
     },
     "execution_count": 128,
     "metadata": {},
     "output_type": "execute_result"
    }
   ],
   "source": [
    "min([1,2,3])"
   ]
  },
  {
   "cell_type": "code",
   "execution_count": null,
   "metadata": {},
   "outputs": [],
   "source": []
  }
 ],
 "metadata": {
  "kernelspec": {
   "display_name": "Python 3.6 (tensorflow)",
   "language": "python",
   "name": "tensorflow"
  },
  "language_info": {
   "codemirror_mode": {
    "name": "ipython",
    "version": 3
   },
   "file_extension": ".py",
   "mimetype": "text/x-python",
   "name": "python",
   "nbconvert_exporter": "python",
   "pygments_lexer": "ipython3",
   "version": "3.6.10"
  }
 },
 "nbformat": 4,
 "nbformat_minor": 4
}
