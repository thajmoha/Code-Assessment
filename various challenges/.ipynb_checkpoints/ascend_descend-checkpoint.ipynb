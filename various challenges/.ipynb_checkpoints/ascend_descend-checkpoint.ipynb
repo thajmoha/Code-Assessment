{
 "cells": [
  {
   "cell_type": "code",
   "execution_count": 9,
   "metadata": {},
   "outputs": [
    {
     "name": "stdout",
     "output_type": "stream",
     "text": [
      "-100 -44 1 2 10 100 1000\n"
     ]
    }
   ],
   "source": [
    "num_list = [1000,2,10,100,-44,1,-100]\n",
    "ascend=1 # 1: ascending else:descending\n",
    "\n",
    "new_list = []\n",
    "\n",
    "def fm(x,ascend_flag=1):\n",
    "    if ascend_flag==1:\n",
    "        return min(x)\n",
    "    else:\n",
    "        return max(x)\n",
    "\n",
    "for i in range(len(num_list)):\n",
    "    a = fm(num_list,ascend)\n",
    "    new_list.append(a)\n",
    "    num_list.remove(a)\n",
    "        \n",
    "print(*new_list)"
   ]
  },
  {
   "cell_type": "code",
   "execution_count": 15,
   "metadata": {},
   "outputs": [
    {
     "name": "stdout",
     "output_type": "stream",
     "text": [
      "[1000, 100, 10, 2, 1, -44, -100]\n"
     ]
    }
   ],
   "source": [
    "num_list = [1000,2,10,100,-44,1,-100]\n",
    "ascend = 1\n",
    "num_list.sort(reverse=ascend)\n",
    "print(num_list)"
   ]
  },
  {
   "cell_type": "code",
   "execution_count": null,
   "metadata": {},
   "outputs": [],
   "source": []
  }
 ],
 "metadata": {
  "kernelspec": {
   "display_name": "Python 3.6 (tensorflow)",
   "language": "python",
   "name": "tensorflow"
  },
  "language_info": {
   "codemirror_mode": {
    "name": "ipython",
    "version": 3
   },
   "file_extension": ".py",
   "mimetype": "text/x-python",
   "name": "python",
   "nbconvert_exporter": "python",
   "pygments_lexer": "ipython3",
   "version": "3.6.10"
  }
 },
 "nbformat": 4,
 "nbformat_minor": 4
}
