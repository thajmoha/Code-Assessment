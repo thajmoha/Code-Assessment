{
 "cells": [
  {
   "cell_type": "code",
   "execution_count": 18,
   "metadata": {},
   "outputs": [
    {
     "name": "stdout",
     "output_type": "stream",
     "text": [
      "two real roots\n",
      "5.0\n",
      "0.5\n"
     ]
    }
   ],
   "source": [
    "from math import sqrt\n",
    "# a,b,c =1,-3,4\n",
    "# a,b,c =-4,12,-9 \n",
    "a,b,c =2,-11,5 \n",
    "\n",
    "sq_val = b**2-4*a*c\n",
    "\n",
    "if sq_val <0:\n",
    "    print('no real root')\n",
    "elif sq_val==0:\n",
    "    print('one real root')\n",
    "    X = -b/(2*a)\n",
    "    print(X)\n",
    "else:\n",
    "    print('two real roots')\n",
    "    X1 = (-b+sqrt(sq_val))/(2*a)\n",
    "    X2 = (-b-sqrt(sq_val))/(2*a)\n",
    "    print(X1)\n",
    "    print(X2)\n",
    " "
   ]
  },
  {
   "cell_type": "code",
   "execution_count": null,
   "metadata": {},
   "outputs": [],
   "source": []
  }
 ],
 "metadata": {
  "kernelspec": {
   "display_name": "Python 3.6 (tensorflow)",
   "language": "python",
   "name": "tensorflow"
  },
  "language_info": {
   "codemirror_mode": {
    "name": "ipython",
    "version": 3
   },
   "file_extension": ".py",
   "mimetype": "text/x-python",
   "name": "python",
   "nbconvert_exporter": "python",
   "pygments_lexer": "ipython3",
   "version": "3.6.10"
  }
 },
 "nbformat": 4,
 "nbformat_minor": 4
}
