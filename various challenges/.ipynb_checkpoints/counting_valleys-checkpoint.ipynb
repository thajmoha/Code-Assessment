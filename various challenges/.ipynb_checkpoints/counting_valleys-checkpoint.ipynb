{
 "cells": [
  {
   "cell_type": "code",
   "execution_count": 68,
   "metadata": {},
   "outputs": [],
   "source": [
    "ns = 8\n",
    "# steps='UDDDUDUU'\n",
    "steps='DDUUDDUDUUUD'"
   ]
  },
  {
   "cell_type": "code",
   "execution_count": 69,
   "metadata": {},
   "outputs": [
    {
     "name": "stdout",
     "output_type": "stream",
     "text": [
      "2\n"
     ]
    }
   ],
   "source": [
    "c_valley=0\n",
    "sea = 0\n",
    "\n",
    "for i in range(len(steps)):\n",
    "    c = steps[i]\n",
    "    if c=='U':\n",
    "        sea += 1\n",
    "    else:\n",
    "        sea -= 1\n",
    "#     print(i,sea,c)\n",
    "    if c =='U' and sea==0:\n",
    "        c_valley+=1\n",
    "        \n",
    "print(c_valley)"
   ]
  },
  {
   "cell_type": "code",
   "execution_count": null,
   "metadata": {},
   "outputs": [],
   "source": [
    "\n",
    "\n",
    "    "
   ]
  }
 ],
 "metadata": {
  "kernelspec": {
   "display_name": "Python 3.6 (tensorflow)",
   "language": "python",
   "name": "tensorflow"
  },
  "language_info": {
   "codemirror_mode": {
    "name": "ipython",
    "version": 3
   },
   "file_extension": ".py",
   "mimetype": "text/x-python",
   "name": "python",
   "nbconvert_exporter": "python",
   "pygments_lexer": "ipython3",
   "version": "3.6.10"
  }
 },
 "nbformat": 4,
 "nbformat_minor": 4
}
