{
 "cells": [
  {
   "cell_type": "code",
   "execution_count": 173,
   "metadata": {},
   "outputs": [],
   "source": [
    "cities = [[0,3],[0,2],[0,1],[1,2],[4,5],[5,6]]\n",
    "\n",
    "c_lib = 3\n",
    "c_road = 2\n",
    "n=7"
   ]
  },
  {
   "cell_type": "code",
   "execution_count": 139,
   "metadata": {},
   "outputs": [],
   "source": [
    "cities = [[0,1],[2,0],[1,2]]\n",
    "c_lib = 2\n",
    "c_road = 1\n",
    "n=3"
   ]
  },
  {
   "cell_type": "code",
   "execution_count": 141,
   "metadata": {},
   "outputs": [],
   "source": [
    "cities = [[1,3],[3,4],[2,4],[1,2],[2,3],[5,6]]\n",
    "c_lib = 2\n",
    "c_road = 5\n",
    "n=6"
   ]
  },
  {
   "cell_type": "code",
   "execution_count": 5,
   "metadata": {},
   "outputs": [],
   "source": [
    "cities =[[1,2],[1,3],[1,4]]\n",
    "n=5\n",
    "c_lib=6\n",
    "c_road = 1\n",
    "\n",
    "\n"
   ]
  },
  {
   "cell_type": "code",
   "execution_count": 169,
   "metadata": {},
   "outputs": [
    {
     "data": {
      "text/plain": [
       "[[1, 2], [1, 3], [1, 4], [5, 5]]"
      ]
     },
     "execution_count": 169,
     "metadata": {},
     "output_type": "execute_result"
    }
   ],
   "source": [
    "cities"
   ]
  },
  {
   "cell_type": "code",
   "execution_count": 8,
   "metadata": {},
   "outputs": [],
   "source": [
    "def roadsAndLibraries(n, c_lib, c_road, cities):\n",
    "    if c_lib<c_road:\n",
    "        return n*c_lib\n",
    "\n",
    "    else:\n",
    "        A=set()\n",
    "        for icity in cities:\n",
    "            A = (A|set(icity)) \n",
    "        if len(A)<n:\n",
    "            n2use = len(A)\n",
    "            n_indp = n-len(A)\n",
    "        else:\n",
    "            n2use=n\n",
    "            n_indp=0\n",
    "        \n",
    "        graph = ddict(set)\n",
    "        for i,j in cities:\n",
    "            graph[i].add(j)\n",
    "            graph[j].add(i)\n",
    "                \n",
    "        print(graph)\n",
    "        \n",
    "        visited = {}\n",
    "        components ={}\n",
    "        count=0\n",
    "        \n",
    "        for k in graph.keys():\n",
    "            visited[k] = False\n",
    "            components[k]=0\n",
    "        \n",
    "        def find_components(count,components):\n",
    "            for i in range(n2use):\n",
    "                item = list(graph.keys())[i]\n",
    "                if not visited[item]:\n",
    "                    count+=1\n",
    "                    components = dfs(item,count)\n",
    "                    \n",
    "            return (count,components)\n",
    "\n",
    "        def dfs(at,count):\n",
    "            visited[at]=True\n",
    "            components[at] = count\n",
    "            \n",
    "            for next_ in graph[at]:\n",
    "                if not visited[next_]:\n",
    "                    dfs(next_,count)\n",
    "            return components\n",
    "        \n",
    "        (count,components) = find_components(count,components)\n",
    "        \n",
    "        \n",
    "        n_lib = len(list(set(components.values())))\n",
    "        n_road=0\n",
    "        for i in list(set(components.values())):\n",
    "            n_road_i = len(list(filter(lambda x: x==i,components.values())))-1\n",
    "            n_road+=n_road_i\n",
    "\n",
    "        return n_road*c_road+(n_lib+n_indp)*c_lib"
   ]
  },
  {
   "cell_type": "code",
   "execution_count": 9,
   "metadata": {},
   "outputs": [
    {
     "name": "stdout",
     "output_type": "stream",
     "text": [
      "defaultdict(<class 'set'>, {1: {2, 3, 4}, 2: {1}, 3: {1}, 4: {1}})\n"
     ]
    },
    {
     "data": {
      "text/plain": [
       "15"
      ]
     },
     "execution_count": 9,
     "metadata": {},
     "output_type": "execute_result"
    }
   ],
   "source": [
    "roadsAndLibraries(n, c_lib, c_road, cities)"
   ]
  },
  {
   "cell_type": "code",
   "execution_count": null,
   "metadata": {},
   "outputs": [],
   "source": [
    "def roadsAndLibraries(n, c_lib, c_road, cities):\n",
    "    if c_lib < c_road: return c_lib * n\n",
    "    g, seen, ans = ddict(set), set(), 0\n",
    "    for i,j in cities:\n",
    "        g[i].add(j) \n",
    "        g[j].add(i)\n",
    "    def dfs(i):\n",
    "        seen.add(i) \n",
    "        return sum(dfs(j) for j in g[i] if j not in seen) + 1\n",
    "    return sum((dfs(i) - 1) * c_road + c_lib for i in range(1, n + 1) if i not in seen)"
   ]
  },
  {
   "cell_type": "code",
   "execution_count": 3,
   "metadata": {},
   "outputs": [],
   "source": [
    "from collections import defaultdict as ddict"
   ]
  },
  {
   "cell_type": "code",
   "execution_count": 4,
   "metadata": {},
   "outputs": [],
   "source": [
    "g = ddict(set)"
   ]
  },
  {
   "cell_type": "code",
   "execution_count": 6,
   "metadata": {},
   "outputs": [],
   "source": [
    "for i,j in cities:\n",
    "    g[i].add(j)\n",
    "    g[j].add(i)"
   ]
  },
  {
   "cell_type": "code",
   "execution_count": 7,
   "metadata": {},
   "outputs": [
    {
     "data": {
      "text/plain": [
       "{2, 3, 4}"
      ]
     },
     "execution_count": 7,
     "metadata": {},
     "output_type": "execute_result"
    }
   ],
   "source": [
    "g[1]"
   ]
  },
  {
   "cell_type": "code",
   "execution_count": 17,
   "metadata": {},
   "outputs": [],
   "source": [
    "A=set()\n",
    "for icity in cities:\n",
    "    A.update(icity) \n",
    "if len(A)<n:\n",
    "    n2use = len(A)\n",
    "    n_indp = n-len(A)\n",
    "else:\n",
    "    n2use=n\n",
    "    n_indp=0"
   ]
  },
  {
   "cell_type": "code",
   "execution_count": 18,
   "metadata": {},
   "outputs": [
    {
     "data": {
      "text/plain": [
       "{1, 2, 3, 4}"
      ]
     },
     "execution_count": 18,
     "metadata": {},
     "output_type": "execute_result"
    }
   ],
   "source": [
    "A"
   ]
  },
  {
   "cell_type": "code",
   "execution_count": null,
   "metadata": {},
   "outputs": [],
   "source": []
  }
 ],
 "metadata": {
  "kernelspec": {
   "display_name": "Python 3.6 (tensorflow)",
   "language": "python",
   "name": "tensorflow"
  },
  "language_info": {
   "codemirror_mode": {
    "name": "ipython",
    "version": 3
   },
   "file_extension": ".py",
   "mimetype": "text/x-python",
   "name": "python",
   "nbconvert_exporter": "python",
   "pygments_lexer": "ipython3",
   "version": "3.6.10"
  }
 },
 "nbformat": 4,
 "nbformat_minor": 4
}
