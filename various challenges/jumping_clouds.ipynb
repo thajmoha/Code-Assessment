{
 "cells": [
  {
   "cell_type": "code",
   "execution_count": 41,
   "metadata": {},
   "outputs": [
    {
     "name": "stdout",
     "output_type": "stream",
     "text": [
      "[0, 1, 3, 4, 6]\n"
     ]
    },
    {
     "data": {
      "text/plain": [
       "4"
      ]
     },
     "execution_count": 41,
     "metadata": {},
     "output_type": "execute_result"
    }
   ],
   "source": [
    "# c = [0,0,0,0,1,0]\n",
    "c=[0, 0, 1, 0, 0, 1, 0]\n",
    "zero_index = [v for v in range(len(c)) if c[v]==0] \n",
    "\n",
    "\n",
    "sol=[]\n",
    "c_pt=zero_index[0]\n",
    "sol.append(c_pt)\n",
    "for i in range(1,len(zero_index)):\n",
    "\n",
    "    if i==len(zero_index)-1 and c_pt !=zero_index[i]:\n",
    "        dis1 = zero_index[i]-c_pt\n",
    "\n",
    "        if dis1 <=2:\n",
    "            c_pt = zero_index[i]\n",
    "            sol.append(c_pt)\n",
    "    elif i<len(zero_index)-1:  \n",
    "        dis1 = zero_index[i]-c_pt\n",
    "        dis2 = zero_index[i+1]-c_pt\n",
    "\n",
    "        if dis2 <=2:\n",
    "            c_pt = zero_index[i+1]\n",
    "            sol.append(c_pt)\n",
    "        elif dis1 <=2:\n",
    "            c_pt = zero_index[i]\n",
    "            sol.append(c_pt)\n",
    "    \n",
    "print(sol)\n",
    "len(sol)-1    "
   ]
  },
  {
   "cell_type": "code",
   "execution_count": 70,
   "metadata": {},
   "outputs": [
    {
     "name": "stdout",
     "output_type": "stream",
     "text": [
      "3\n"
     ]
    },
    {
     "data": {
      "text/plain": [
       "[0, 2, 4, 5]"
      ]
     },
     "execution_count": 70,
     "metadata": {},
     "output_type": "execute_result"
    }
   ],
   "source": [
    "# c=[0, 0, 1, 0, 0, 1, 0]\n",
    "# c = [0,0,0,0,1,0]\n",
    "c=[0, 0, 0, 1, 0, 0]\n",
    "counter=0\n",
    "i=1\n",
    "sol=[]\n",
    "sol.append(0)\n",
    "while i<len(c): \n",
    "    \n",
    "    if i==len(c)-1:\n",
    "        if c[i]==0:\n",
    "            counter+=1\n",
    "            sol.append(i)\n",
    "            i+=1\n",
    "    else:\n",
    "        if c[i+1]==0:\n",
    "            counter+=1\n",
    "            sol.append(i+1)\n",
    "            i+=2\n",
    "\n",
    "        elif c[i]==0:\n",
    "            counter+=1\n",
    "            sol.append(i)\n",
    "            i+=1\n",
    "print(counter)      \n",
    "sol"
   ]
  },
  {
   "cell_type": "code",
   "execution_count": 51,
   "metadata": {},
   "outputs": [
    {
     "data": {
      "text/plain": [
       "[0, 1, 2, 3, 5]"
      ]
     },
     "execution_count": 51,
     "metadata": {},
     "output_type": "execute_result"
    }
   ],
   "source": [
    "zero_index = [v for v in range(len(c)) if c[v]==0] \n",
    "zero_index"
   ]
  },
  {
   "cell_type": "code",
   "execution_count": null,
   "metadata": {},
   "outputs": [],
   "source": []
  }
 ],
 "metadata": {
  "kernelspec": {
   "display_name": "Python 3.6 (tensorflow)",
   "language": "python",
   "name": "tensorflow"
  },
  "language_info": {
   "codemirror_mode": {
    "name": "ipython",
    "version": 3
   },
   "file_extension": ".py",
   "mimetype": "text/x-python",
   "name": "python",
   "nbconvert_exporter": "python",
   "pygments_lexer": "ipython3",
   "version": "3.6.10"
  }
 },
 "nbformat": 4,
 "nbformat_minor": 4
}
