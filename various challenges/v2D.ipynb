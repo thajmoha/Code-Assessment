{
 "cells": [
  {
   "cell_type": "code",
   "execution_count": 58,
   "metadata": {},
   "outputs": [
    {
     "name": "stdout",
     "output_type": "stream",
     "text": [
      "19.0\n"
     ]
    }
   ],
   "source": [
    "import numpy as np\n",
    "# arr = np.array([[-9, -9, -9,  1, 1, 1],[0, -9,  0,  4, 3, 2],[-9, -9, -9,  1, 2, 3],[0,  0,  8,  6, 6, 0],[0,  0 , 0 ,-2, 0, 0],[0,  0,  1,  2, 4, 0]])\n",
    "arr = np.array([[1, 1, 1, 0, 0, 0],[0, 1, 0, 0, 0, 0],[1, 1, 1, 0, 0, 0],[0, 0, 2, 4, 4, 0],[0, 0, 0, 2, 0, 0],[0, 0, 1, 2, 4, 0]])\n",
    "D=np.zeros((4,4))\n",
    "for i in range(4):\n",
    "    for j in range(4):\n",
    "        x = arr[i:i+3,j:j+3].copy()\n",
    "        x[1,0]=0\n",
    "        x[1,2]=0\n",
    "        D[i,j] = x.sum()\n",
    "print(D.max())"
   ]
  },
  {
   "cell_type": "code",
   "execution_count": 103,
   "metadata": {},
   "outputs": [
    {
     "data": {
      "text/plain": [
       "19"
      ]
     },
     "execution_count": 103,
     "metadata": {},
     "output_type": "execute_result"
    }
   ],
   "source": [
    "arr = [[1, 1, 1, 0, 0, 0],[0, 1, 0, 0, 0, 0],[1, 1, 1, 0, 0, 0],[0, 0, 2, 4, 4, 0],[0, 0, 0, 2, 0, 0],[0, 0, 1, 2, 4, 0]]\n",
    "x=[]\n",
    "sum_list=[]\n",
    "for i in range(4):\n",
    "    for j in range(4):\n",
    "        x=[]\n",
    "        for k in range(i,i+3):\n",
    "            x.append(arr[k][j:j+3].copy())\n",
    "#         print(x)\n",
    "        x[1][0] = 0\n",
    "        x[1][2] = 0\n",
    "        c=0\n",
    "        for ix in x:\n",
    "            c=c+sum(ix)\n",
    "        sum_list.append(c)\n",
    "        \n",
    "max(sum_list)"
   ]
  },
  {
   "cell_type": "code",
   "execution_count": null,
   "metadata": {},
   "outputs": [],
   "source": []
  }
 ],
 "metadata": {
  "kernelspec": {
   "display_name": "Python 3.6 (tensorflow)",
   "language": "python",
   "name": "tensorflow"
  },
  "language_info": {
   "codemirror_mode": {
    "name": "ipython",
    "version": 3
   },
   "file_extension": ".py",
   "mimetype": "text/x-python",
   "name": "python",
   "nbconvert_exporter": "python",
   "pygments_lexer": "ipython3",
   "version": "3.6.10"
  }
 },
 "nbformat": 4,
 "nbformat_minor": 2
}
