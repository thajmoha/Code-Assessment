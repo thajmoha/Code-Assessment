{
 "cells": [
  {
   "cell_type": "code",
   "execution_count": 42,
   "metadata": {},
   "outputs": [
    {
     "name": "stdout",
     "output_type": "stream",
     "text": [
      "eight  thousand"
     ]
    }
   ],
   "source": [
    "num_dic = {'1':'one','2':'two','3':'three','4':'four','5':'five'\n",
    "           ,'6':'six','7':'seven','8':'eight','9':'nine','10':'ten'\n",
    "          ,'11':'elventh','12':'twelvth','13':'thirteen','14':'fourteen'\n",
    "          ,'15':'fifteen','16':'sixteen','16':'sixteen','17':'seventeen'\n",
    "          ,'18':'eighteen','19':'ninteen'}\n",
    "\n",
    "num_dic2 = {'2':'twenty','3':'thirty','4':'fourty','5':'fifty','6':'sixty','7':'seventy','8':'eighty','9':'ninty'}\n",
    "\n",
    "x=8000\n",
    "\n",
    "x_list = list(str(x))\n",
    "\n",
    "if len(x_list)==1:\n",
    "    print(num_dic[x_list[0]])\n",
    "\n",
    "if len(x_list)==2 and int(''.join(x_list))<20:\n",
    "    print(num_dic[''.join(x_list)])\n",
    "    \n",
    "if len(x_list)==2 and int(''.join(x_list))>20:\n",
    "    print(num_dic2[x_list[0]],num_dic[x_list[1]]) \n",
    "\n",
    "if len(x_list)==3:\n",
    "    print(num_dic[x_list[0]],' hundred',end='')\n",
    "if len(x_list)==4:\n",
    "    print(num_dic[x_list[0]],' thousand',end='')     "
   ]
  },
  {
   "cell_type": "code",
   "execution_count": 54,
   "metadata": {},
   "outputs": [
    {
     "name": "stdout",
     "output_type": "stream",
     "text": [
      "one  thousand two hundred twenty one\n"
     ]
    }
   ],
   "source": [
    "num_dic = {'1':'one','2':'two','3':'three','4':'four','5':'five'\n",
    "           ,'6':'six','7':'seven','8':'eight','9':'nine','10':'ten'\n",
    "          ,'11':'elventh','12':'twelvth','13':'thirteen','14':'fourteen'\n",
    "          ,'15':'fifteen','16':'sixteen','16':'sixteen','17':'seventeen'\n",
    "          ,'18':'eighteen','19':'ninteen'}\n",
    "\n",
    "num_dic2 = {'2':'twenty','3':'thirty','4':'fourty','5':'fifty','6':'sixty','7':'seventy','8':'eighty','9':'ninty'}\n",
    "\n",
    "x=1221\n",
    "x_list = list(str(x))\n",
    "x2print=x_list.copy()\n",
    "for i in range(len(x_list),1,-1):\n",
    "    \n",
    "    if i==4:\n",
    "        print(num_dic[x2print[0]],' thousand',end=' ')\n",
    "        x2print.pop(0)\n",
    "    if i==3 and int(x2print[0])!=0:\n",
    "        print(num_dic[x2print[0]],'hundred',end=' ')\n",
    "        x2print.pop(0)\n",
    "    if i==2 and int(''.join(x2print))>=20:\n",
    "        if int(x2print[1])!=0:\n",
    "            print(num_dic2[x2print[0]],num_dic[x2print[1]]) \n",
    "        else:\n",
    "            print(num_dic2[x2print[0]])\n",
    "    if i==2 and int(''.join(x2print))<20 and int(''.join(x2print))>0:\n",
    "        print(num_dic[''.join(x2print)])    \n",
    "    if i==1:\n",
    "        print(num_dic[x2print[0]])\n",
    "   "
   ]
  },
  {
   "cell_type": "code",
   "execution_count": null,
   "metadata": {},
   "outputs": [],
   "source": []
  }
 ],
 "metadata": {
  "kernelspec": {
   "display_name": "Python 3.6 (tensorflow)",
   "language": "python",
   "name": "tensorflow"
  },
  "language_info": {
   "codemirror_mode": {
    "name": "ipython",
    "version": 3
   },
   "file_extension": ".py",
   "mimetype": "text/x-python",
   "name": "python",
   "nbconvert_exporter": "python",
   "pygments_lexer": "ipython3",
   "version": "3.6.10"
  }
 },
 "nbformat": 4,
 "nbformat_minor": 4
}
