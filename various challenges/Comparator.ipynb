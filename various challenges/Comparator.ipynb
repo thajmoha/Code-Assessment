{
 "cells": [
  {
   "cell_type": "code",
   "execution_count": 3,
   "metadata": {},
   "outputs": [
    {
     "name": "stdout",
     "output_type": "stream",
     "text": [
      "4\n",
      "a 1\n",
      "a 1\n",
      "b 10\n",
      "c 10\n",
      "b 10\n",
      "c 10\n",
      "a 1\n",
      "a 1\n"
     ]
    }
   ],
   "source": [
    "from functools import cmp_to_key\n",
    "class Player:\n",
    "    def __init__(self, name, score):\n",
    "        self.name = name\n",
    "        self.score = score\n",
    "    def __repr__(self):\n",
    "        pass\n",
    "    def comparator(a, b):\n",
    "        if a.score>b.score:\n",
    "            return -1\n",
    "        elif a.score<b.score:\n",
    "            return 1\n",
    "        elif a.name >b.name:\n",
    "            return 1\n",
    "        elif a.name <b.name:\n",
    "            return -1\n",
    "        else: \n",
    "            return 0 \n",
    "n = int(input())\n",
    "data = []\n",
    "for i in range(n):\n",
    "    name, score = input().split()\n",
    "    score = int(score)\n",
    "    player = Player(name, score)\n",
    "    data.append(player)\n",
    "    \n",
    "data = sorted(data, key=cmp_to_key(Player.comparator))\n",
    "for i in data:\n",
    "    print(i.name, i.score)"
   ]
  },
  {
   "cell_type": "code",
   "execution_count": 8,
   "metadata": {},
   "outputs": [
    {
     "name": "stdout",
     "output_type": "stream",
     "text": [
      "b 10\n",
      "c 10\n",
      "a 1\n",
      "a 1\n"
     ]
    }
   ],
   "source": [
    "for i in data:\n",
    "    print(i.name, i.score)"
   ]
  },
  {
   "cell_type": "code",
   "execution_count": 9,
   "metadata": {},
   "outputs": [
    {
     "data": {
      "text/plain": [
       "[1, 10, 11]"
      ]
     },
     "execution_count": 9,
     "metadata": {},
     "output_type": "execute_result"
    }
   ],
   "source": [
    "a=[1,10,11]\n",
    "sorted(a)"
   ]
  },
  {
   "cell_type": "code",
   "execution_count": null,
   "metadata": {},
   "outputs": [],
   "source": []
  },
  {
   "cell_type": "code",
   "execution_count": 11,
   "metadata": {},
   "outputs": [
    {
     "name": "stdout",
     "output_type": "stream",
     "text": [
      "2\n",
      "a 10\n",
      "b 20\n",
      "b 20\n",
      "a 10\n"
     ]
    }
   ],
   "source": [
    "from functools import cmp_to_key\n",
    "\n",
    "def comparator(a, b):\n",
    "    if a[1]>b[1]:\n",
    "        return -1\n",
    "    elif a[1]<b[1]:\n",
    "        return 1\n",
    "    elif a[0] >b[0]:\n",
    "        return 1\n",
    "    elif a[0] <b[0]:\n",
    "        return -1\n",
    "    else: \n",
    "        return 0\n",
    "    \n",
    "    \n",
    "    \n",
    "n = int(input())\n",
    "data = []\n",
    "for i in range(n):\n",
    "    name, score = input().split()\n",
    "    score = int(score)\n",
    "    player = [name, score]\n",
    "    data.append(player)\n",
    "    \n",
    "data = sorted(data, key=cmp_to_key(comparator))\n",
    "for i in data:\n",
    "    print(i[0], i[1])"
   ]
  },
  {
   "cell_type": "code",
   "execution_count": null,
   "metadata": {},
   "outputs": [],
   "source": []
  }
 ],
 "metadata": {
  "kernelspec": {
   "display_name": "Python 3.6 (tensorflow)",
   "language": "python",
   "name": "tensorflow"
  },
  "language_info": {
   "codemirror_mode": {
    "name": "ipython",
    "version": 3
   },
   "file_extension": ".py",
   "mimetype": "text/x-python",
   "name": "python",
   "nbconvert_exporter": "python",
   "pygments_lexer": "ipython3",
   "version": "3.6.10"
  }
 },
 "nbformat": 4,
 "nbformat_minor": 4
}
