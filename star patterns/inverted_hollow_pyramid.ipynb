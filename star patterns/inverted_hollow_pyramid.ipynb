{
 "cells": [
  {
   "cell_type": "code",
   "execution_count": 1,
   "metadata": {},
   "outputs": [],
   "source": [
    "# inverted hollow pyramid star pattern\n",
    "#*******\n",
    "# *   * \n",
    "#  * *  \n",
    "#   *"
   ]
  },
  {
   "cell_type": "code",
   "execution_count": 6,
   "metadata": {},
   "outputs": [
    {
     "name": "stdout",
     "output_type": "stream",
     "text": [
      "*******\n",
      "*******\n",
      "*******\n",
      "*******\n"
     ]
    }
   ],
   "source": [
    "print('*******')\n",
    "print('*******')\n",
    "print('*******')\n",
    "print('*******')"
   ]
  },
  {
   "cell_type": "code",
   "execution_count": 7,
   "metadata": {},
   "outputs": [
    {
     "name": "stdout",
     "output_type": "stream",
     "text": [
      "*******\n",
      "*******\n",
      "*******\n",
      "*******\n"
     ]
    }
   ],
   "source": [
    "nrows = 4\n",
    "for i in range(0,nrows):\n",
    "    for j in range(0,nrows*2-1):\n",
    "        print('*',end='')\n",
    "    print('')"
   ]
  },
  {
   "cell_type": "code",
   "execution_count": 17,
   "metadata": {},
   "outputs": [
    {
     "name": "stdout",
     "output_type": "stream",
     "text": [
      "***************************************\n",
      " *                                   * \n",
      "  *                                 *  \n",
      "   *                               *   \n",
      "    *                             *    \n",
      "     *                           *     \n",
      "      *                         *      \n",
      "       *                       *       \n",
      "        *                     *        \n",
      "         *                   *         \n",
      "          *                 *          \n",
      "           *               *           \n",
      "            *             *            \n",
      "             *           *             \n",
      "              *         *              \n",
      "               *       *               \n",
      "                *     *                \n",
      "                 *   *                 \n",
      "                  * *                  \n",
      "                   *                   \n"
     ]
    }
   ],
   "source": [
    "nrows = 20\n",
    "for i in range(0,nrows):\n",
    "    for j in range(0,nrows*2-1):\n",
    "        if i==0:\n",
    "            print('*',end='')\n",
    "        elif i==j or i==nrows*2-2-j:\n",
    "            print('*',end='')\n",
    "        else:\n",
    "            print(' ',end='')\n",
    "    print('')"
   ]
  },
  {
   "cell_type": "code",
   "execution_count": null,
   "metadata": {},
   "outputs": [],
   "source": []
  }
 ],
 "metadata": {
  "kernelspec": {
   "display_name": "Python 3.6 (tensorflow)",
   "language": "python",
   "name": "tensorflow"
  },
  "language_info": {
   "codemirror_mode": {
    "name": "ipython",
    "version": 3
   },
   "file_extension": ".py",
   "mimetype": "text/x-python",
   "name": "python",
   "nbconvert_exporter": "python",
   "pygments_lexer": "ipython3",
   "version": "3.6.9"
  }
 },
 "nbformat": 4,
 "nbformat_minor": 2
}
