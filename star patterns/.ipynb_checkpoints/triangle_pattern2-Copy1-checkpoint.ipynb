{
 "cells": [
  {
   "cell_type": "code",
   "execution_count": 4,
   "metadata": {},
   "outputs": [],
   "source": [
    "#   *   3\n",
    "#  * *  2\n",
    "# *   * 1\n",
    "#*******0"
   ]
  },
  {
   "cell_type": "code",
   "execution_count": 11,
   "metadata": {},
   "outputs": [
    {
     "name": "stdout",
     "output_type": "stream",
     "text": [
      "   *   \n",
      "  * *  \n",
      " *   * \n",
      "*******\n"
     ]
    }
   ],
   "source": [
    "nrows = 4\n",
    "for i in range(nrows-1,-1,-1):\n",
    "#     print(' '*(nrows-i),end='')\n",
    "#     print('*',end='')\n",
    "#     print(' '*i)\n",
    "    \n",
    "    for j in range(0,2*nrows-1):\n",
    "        if i==0:\n",
    "            print('*',end='')\n",
    "        elif j==i or j==2*nrows-2-i:\n",
    "            print('*',end='')\n",
    "        else:\n",
    "            print(' ',end='')\n",
    "    print('')         "
   ]
  },
  {
   "cell_type": "code",
   "execution_count": null,
   "metadata": {},
   "outputs": [],
   "source": []
  }
 ],
 "metadata": {
  "kernelspec": {
   "display_name": "Python 3.6 (tensorflow)",
   "language": "python",
   "name": "tensorflow"
  },
  "language_info": {
   "codemirror_mode": {
    "name": "ipython",
    "version": 3
   },
   "file_extension": ".py",
   "mimetype": "text/x-python",
   "name": "python",
   "nbconvert_exporter": "python",
   "pygments_lexer": "ipython3",
   "version": "3.6.9"
  }
 },
 "nbformat": 4,
 "nbformat_minor": 2
}
